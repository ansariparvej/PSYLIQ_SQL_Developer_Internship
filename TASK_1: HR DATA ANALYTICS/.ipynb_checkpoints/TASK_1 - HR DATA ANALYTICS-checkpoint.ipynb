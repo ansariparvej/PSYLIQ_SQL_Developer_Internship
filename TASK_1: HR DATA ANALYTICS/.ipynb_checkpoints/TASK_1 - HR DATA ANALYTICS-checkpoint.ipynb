{
 "cells": [
  {
   "cell_type": "markdown",
   "id": "e531b572",
   "metadata": {},
   "source": [
    "# SQL DEVELOPER INTERN @ PSYLIQ"
   ]
  },
  {
   "cell_type": "markdown",
   "id": "f0c6f9bd",
   "metadata": {},
   "source": [
    "## AUTHOR : PARVEJ ALAM M. ANSARI"
   ]
  },
  {
   "cell_type": "markdown",
   "id": "0ecd8cf7",
   "metadata": {},
   "source": [
    "# TASK 1 : HR DATA ANALYTICS"
   ]
  },
  {
   "cell_type": "markdown",
   "id": "f78f6cc2",
   "metadata": {},
   "source": [
    "# 1. Connect Notebook with MySQL Database"
   ]
  },
  {
   "cell_type": "code",
   "execution_count": 1,
   "id": "931156a6",
   "metadata": {},
   "outputs": [],
   "source": [
    "# Import required libraries\n",
    "import pandas as pd\n",
    "import mysql.connector"
   ]
  },
  {
   "cell_type": "code",
   "execution_count": 2,
   "id": "7e306f45",
   "metadata": {},
   "outputs": [],
   "source": [
    "# MySQL database connection details\n",
    "host = 'YOUR_HOST_NAME'\n",
    "user = 'YOUR_USER_NAME'\n",
    "password = 'YOUR_PASSWORD'"
   ]
  },
  {
   "cell_type": "code",
   "execution_count": 3,
   "id": "7b43d20c",
   "metadata": {},
   "outputs": [],
   "source": [
    "# CSV file path\n",
    "csv_file = 'hr_data.csv'  # Replace 'your_file.csv' with your CSV file path\n",
    "\n",
    "# Read the first row of the CSV to extract column names\n",
    "with open(csv_file, 'r') as file:\n",
    "    first_line = file.readline().strip()  # Read the first line\n",
    "    column_names = first_line.split(',')  # Assuming columns are comma-separated\n",
    "    file.close()"
   ]
  },
  {
   "cell_type": "code",
   "execution_count": 4,
   "id": "31d40c93",
   "metadata": {},
   "outputs": [],
   "source": [
    "# Create MySQL connection\n",
    "conn = mysql.connector.connect(host=host, user=user, password=password)\n",
    "cursor = conn.cursor()"
   ]
  },
  {
   "cell_type": "code",
   "execution_count": 6,
   "id": "2953b0e6",
   "metadata": {},
   "outputs": [
    {
     "name": "stdout",
     "output_type": "stream",
     "text": [
      "Enter database name: hranalytics\n"
     ]
    }
   ],
   "source": [
    "# Name of database\n",
    "database = str(input(\"Enter database name: \"))\n",
    "\n",
    "# Create the database if it doesn't exist\n",
    "create_db_query = f\"CREATE DATABASE IF NOT EXISTS {database}\"\n",
    "cursor.execute(create_db_query)\n",
    "\n",
    "# Close the connection as the database is created\n",
    "conn.close()"
   ]
  },
  {
   "cell_type": "code",
   "execution_count": 7,
   "id": "c7ef597f",
   "metadata": {},
   "outputs": [],
   "source": [
    "# Reconnect to the newly created or existing database\n",
    "conn = mysql.connector.connect(host=host, user=user, password=password, database=database)\n",
    "cursor = conn.cursor()"
   ]
  },
  {
   "cell_type": "code",
   "execution_count": 7,
   "id": "df47a68b",
   "metadata": {},
   "outputs": [
    {
     "name": "stdout",
     "output_type": "stream",
     "text": [
      "Enter table name: hr_table\n"
     ]
    }
   ],
   "source": [
    "# Name of table\n",
    "table_name = str(input(\"Enter table name: \"))\n",
    "\n",
    "# Create table with extracted column names\n",
    "create_table_query = f\"CREATE TABLE IF NOT EXISTS {table_name} ({', '.join([f'{col} TEXT' for col in column_names])})\"\n",
    "cursor.execute(create_table_query)"
   ]
  },
  {
   "cell_type": "code",
   "execution_count": 8,
   "id": "0eb0952f",
   "metadata": {},
   "outputs": [
    {
     "data": {
      "text/html": [
       "<div>\n",
       "<style scoped>\n",
       "    .dataframe tbody tr th:only-of-type {\n",
       "        vertical-align: middle;\n",
       "    }\n",
       "\n",
       "    .dataframe tbody tr th {\n",
       "        vertical-align: top;\n",
       "    }\n",
       "\n",
       "    .dataframe thead th {\n",
       "        text-align: right;\n",
       "    }\n",
       "</style>\n",
       "<table border=\"1\" class=\"dataframe\">\n",
       "  <thead>\n",
       "    <tr style=\"text-align: right;\">\n",
       "      <th></th>\n",
       "      <th>EmpName</th>\n",
       "      <th>Age</th>\n",
       "      <th>Attrition</th>\n",
       "      <th>BusinessTravel</th>\n",
       "      <th>Department</th>\n",
       "      <th>DistanceFromHome</th>\n",
       "      <th>Education</th>\n",
       "      <th>EducationField</th>\n",
       "      <th>EmployeeCount</th>\n",
       "      <th>EmployeeID</th>\n",
       "      <th>...</th>\n",
       "      <th>NumCompaniesWorked</th>\n",
       "      <th>Over18</th>\n",
       "      <th>PercentSalaryHike</th>\n",
       "      <th>StandardHours</th>\n",
       "      <th>StockOptionLevel</th>\n",
       "      <th>TotalWorkingYears</th>\n",
       "      <th>TrainingTimesLastYear</th>\n",
       "      <th>YearsAtCompany</th>\n",
       "      <th>YearsSinceLastPromotion</th>\n",
       "      <th>YearsWithCurrManager</th>\n",
       "    </tr>\n",
       "  </thead>\n",
       "  <tbody>\n",
       "    <tr>\n",
       "      <th>0</th>\n",
       "      <td>ALBERTO PEDRUCO</td>\n",
       "      <td>51</td>\n",
       "      <td>No</td>\n",
       "      <td>Travel_Rarely</td>\n",
       "      <td>Sales</td>\n",
       "      <td>6</td>\n",
       "      <td>2</td>\n",
       "      <td>Life Sciences</td>\n",
       "      <td>1</td>\n",
       "      <td>1</td>\n",
       "      <td>...</td>\n",
       "      <td>1.0</td>\n",
       "      <td>Y</td>\n",
       "      <td>11</td>\n",
       "      <td>8</td>\n",
       "      <td>0</td>\n",
       "      <td>1.0</td>\n",
       "      <td>6</td>\n",
       "      <td>1</td>\n",
       "      <td>0</td>\n",
       "      <td>0</td>\n",
       "    </tr>\n",
       "    <tr>\n",
       "      <th>1</th>\n",
       "      <td>LAWRENCE LEE</td>\n",
       "      <td>31</td>\n",
       "      <td>Yes</td>\n",
       "      <td>Travel_Frequently</td>\n",
       "      <td>Research &amp; Development</td>\n",
       "      <td>10</td>\n",
       "      <td>1</td>\n",
       "      <td>Life Sciences</td>\n",
       "      <td>1</td>\n",
       "      <td>2</td>\n",
       "      <td>...</td>\n",
       "      <td>0.0</td>\n",
       "      <td>Y</td>\n",
       "      <td>23</td>\n",
       "      <td>8</td>\n",
       "      <td>1</td>\n",
       "      <td>6.0</td>\n",
       "      <td>3</td>\n",
       "      <td>5</td>\n",
       "      <td>1</td>\n",
       "      <td>4</td>\n",
       "    </tr>\n",
       "    <tr>\n",
       "      <th>2</th>\n",
       "      <td>DWAYNE CURRY</td>\n",
       "      <td>32</td>\n",
       "      <td>No</td>\n",
       "      <td>Travel_Frequently</td>\n",
       "      <td>Research &amp; Development</td>\n",
       "      <td>17</td>\n",
       "      <td>4</td>\n",
       "      <td>Other</td>\n",
       "      <td>1</td>\n",
       "      <td>3</td>\n",
       "      <td>...</td>\n",
       "      <td>1.0</td>\n",
       "      <td>Y</td>\n",
       "      <td>15</td>\n",
       "      <td>8</td>\n",
       "      <td>3</td>\n",
       "      <td>5.0</td>\n",
       "      <td>2</td>\n",
       "      <td>5</td>\n",
       "      <td>0</td>\n",
       "      <td>3</td>\n",
       "    </tr>\n",
       "    <tr>\n",
       "      <th>3</th>\n",
       "      <td>RENEE MARQUARDT</td>\n",
       "      <td>38</td>\n",
       "      <td>No</td>\n",
       "      <td>Non-Travel</td>\n",
       "      <td>Research &amp; Development</td>\n",
       "      <td>2</td>\n",
       "      <td>5</td>\n",
       "      <td>Life Sciences</td>\n",
       "      <td>1</td>\n",
       "      <td>4</td>\n",
       "      <td>...</td>\n",
       "      <td>3.0</td>\n",
       "      <td>Y</td>\n",
       "      <td>11</td>\n",
       "      <td>8</td>\n",
       "      <td>3</td>\n",
       "      <td>13.0</td>\n",
       "      <td>5</td>\n",
       "      <td>8</td>\n",
       "      <td>7</td>\n",
       "      <td>5</td>\n",
       "    </tr>\n",
       "    <tr>\n",
       "      <th>4</th>\n",
       "      <td>HARVEY ELWIN</td>\n",
       "      <td>32</td>\n",
       "      <td>No</td>\n",
       "      <td>Travel_Rarely</td>\n",
       "      <td>Research &amp; Development</td>\n",
       "      <td>10</td>\n",
       "      <td>1</td>\n",
       "      <td>Medical</td>\n",
       "      <td>1</td>\n",
       "      <td>5</td>\n",
       "      <td>...</td>\n",
       "      <td>4.0</td>\n",
       "      <td>Y</td>\n",
       "      <td>12</td>\n",
       "      <td>8</td>\n",
       "      <td>2</td>\n",
       "      <td>9.0</td>\n",
       "      <td>2</td>\n",
       "      <td>6</td>\n",
       "      <td>0</td>\n",
       "      <td>4</td>\n",
       "    </tr>\n",
       "  </tbody>\n",
       "</table>\n",
       "<p>5 rows × 25 columns</p>\n",
       "</div>"
      ],
      "text/plain": [
       "           EmpName  Age Attrition     BusinessTravel              Department  \\\n",
       "0  ALBERTO PEDRUCO   51        No      Travel_Rarely                   Sales   \n",
       "1     LAWRENCE LEE   31       Yes  Travel_Frequently  Research & Development   \n",
       "2     DWAYNE CURRY   32        No  Travel_Frequently  Research & Development   \n",
       "3  RENEE MARQUARDT   38        No         Non-Travel  Research & Development   \n",
       "4     HARVEY ELWIN   32        No      Travel_Rarely  Research & Development   \n",
       "\n",
       "   DistanceFromHome  Education EducationField  EmployeeCount  EmployeeID  ...  \\\n",
       "0                 6          2  Life Sciences              1           1  ...   \n",
       "1                10          1  Life Sciences              1           2  ...   \n",
       "2                17          4          Other              1           3  ...   \n",
       "3                 2          5  Life Sciences              1           4  ...   \n",
       "4                10          1        Medical              1           5  ...   \n",
       "\n",
       "  NumCompaniesWorked  Over18 PercentSalaryHike StandardHours  \\\n",
       "0                1.0       Y                11             8   \n",
       "1                0.0       Y                23             8   \n",
       "2                1.0       Y                15             8   \n",
       "3                3.0       Y                11             8   \n",
       "4                4.0       Y                12             8   \n",
       "\n",
       "   StockOptionLevel  TotalWorkingYears TrainingTimesLastYear  YearsAtCompany  \\\n",
       "0                 0                1.0                     6               1   \n",
       "1                 1                6.0                     3               5   \n",
       "2                 3                5.0                     2               5   \n",
       "3                 3               13.0                     5               8   \n",
       "4                 2                9.0                     2               6   \n",
       "\n",
       "   YearsSinceLastPromotion  YearsWithCurrManager  \n",
       "0                        0                     0  \n",
       "1                        1                     4  \n",
       "2                        0                     3  \n",
       "3                        7                     5  \n",
       "4                        0                     4  \n",
       "\n",
       "[5 rows x 25 columns]"
      ]
     },
     "execution_count": 8,
     "metadata": {},
     "output_type": "execute_result"
    }
   ],
   "source": [
    "# Read the CSV file into a pandas DataFrame\n",
    "df = pd.read_csv(csv_file)\n",
    "df.head()"
   ]
  },
  {
   "cell_type": "code",
   "execution_count": 9,
   "id": "490d1d09",
   "metadata": {},
   "outputs": [
    {
     "data": {
      "text/plain": [
       "(4410, 25)"
      ]
     },
     "execution_count": 9,
     "metadata": {},
     "output_type": "execute_result"
    }
   ],
   "source": [
    "# Checking shape of dataset\n",
    "df.shape"
   ]
  },
  {
   "cell_type": "code",
   "execution_count": 10,
   "id": "927f6548",
   "metadata": {},
   "outputs": [
    {
     "data": {
      "text/plain": [
       "Index(['EmpName', 'Age', 'Attrition', 'BusinessTravel', 'Department',\n",
       "       'DistanceFromHome', 'Education', 'EducationField', 'EmployeeCount',\n",
       "       'EmployeeID', 'Gender', 'JobLevel', 'JobRole', 'MaritalStatus',\n",
       "       'MonthlyIncome', 'NumCompaniesWorked', 'Over18', 'PercentSalaryHike',\n",
       "       'StandardHours', 'StockOptionLevel', 'TotalWorkingYears',\n",
       "       'TrainingTimesLastYear', 'YearsAtCompany', 'YearsSinceLastPromotion',\n",
       "       'YearsWithCurrManager'],\n",
       "      dtype='object')"
      ]
     },
     "execution_count": 10,
     "metadata": {},
     "output_type": "execute_result"
    }
   ],
   "source": [
    "# Checking column names\n",
    "df.columns"
   ]
  },
  {
   "cell_type": "code",
   "execution_count": 11,
   "id": "5fc58f69",
   "metadata": {},
   "outputs": [
    {
     "name": "stdout",
     "output_type": "stream",
     "text": [
      "Table 'hr_table' created and data loaded successfully.\n"
     ]
    }
   ],
   "source": [
    "# Insert data into the created table\n",
    "for _, row in df.iterrows():\n",
    "    # Handle NaN values by converting them to None\n",
    "    row = [None if pd.isna(value) else value for value in row]\n",
    "    \n",
    "    # Prepare and execute the insert query\n",
    "    insert_query = f\"INSERT INTO {table_name} ({', '.join(column_names)}) VALUES ({', '.join(['%s'] * len(column_names))})\"\n",
    "    cursor.execute(insert_query, tuple(row))\n",
    "\n",
    "# Commit changes and close the connection\n",
    "conn.commit()\n",
    "conn.close()\n",
    "\n",
    "print(f\"Table '{table_name}' created and data loaded successfully.\")"
   ]
  },
  {
   "cell_type": "markdown",
   "id": "61f534c1",
   "metadata": {},
   "source": [
    "# 2. Excess Databse Information as per your Requirement"
   ]
  },
  {
   "cell_type": "code",
   "execution_count": 11,
   "id": "c66a1f04",
   "metadata": {},
   "outputs": [],
   "source": [
    "# Pass the query through this function ant get your results\n",
    "from IPython.display import display\n",
    "\n",
    "def execute_query(query):\n",
    "    \n",
    "    # MySQL database connection details\n",
    "    host = 'YOUR_HOST_NAME'\n",
    "    user = 'YOUR_USER_NAME'\n",
    "    password = 'YOUR_PASSWORD'\n",
    "    database = 'hranalytics'  # Replace with your database name\n",
    "\n",
    "    # Connect to MySQL\n",
    "    conn = mysql.connector.connect(host=host, user=user, password=password, database=database)\n",
    "\n",
    "    # Create a cursor\n",
    "    cursor = conn.cursor()\n",
    "\n",
    "    try:\n",
    "        # Execute the query\n",
    "        cursor.execute(query)\n",
    "\n",
    "        # Fetch all results\n",
    "        results = cursor.fetchall()\n",
    "\n",
    "     \n",
    "        # Display results in a table format\n",
    "        if results:\n",
    "            header = [desc[0] for desc in cursor.description]\n",
    "            data = list(results)\n",
    "            df = pd.DataFrame(data, columns=header)\n",
    "            display(df)\n",
    "        else:\n",
    "            print(\"No results found.\")\n",
    "\n",
    "    except mysql.connector.Error as error:\n",
    "        print(f\"Error: {error.msg}\")\n",
    "\n",
    "    finally:\n",
    "        # Close the cursor and connection\n",
    "        cursor.close()\n",
    "        conn.close()"
   ]
  },
  {
   "cell_type": "markdown",
   "id": "d1ca2a3f",
   "metadata": {},
   "source": [
    "## 1. Retrieve the total number of employees in the dataset."
   ]
  },
  {
   "cell_type": "code",
   "execution_count": 12,
   "id": "2764e609",
   "metadata": {},
   "outputs": [
    {
     "data": {
      "text/html": [
       "<div>\n",
       "<style scoped>\n",
       "    .dataframe tbody tr th:only-of-type {\n",
       "        vertical-align: middle;\n",
       "    }\n",
       "\n",
       "    .dataframe tbody tr th {\n",
       "        vertical-align: top;\n",
       "    }\n",
       "\n",
       "    .dataframe thead th {\n",
       "        text-align: right;\n",
       "    }\n",
       "</style>\n",
       "<table border=\"1\" class=\"dataframe\">\n",
       "  <thead>\n",
       "    <tr style=\"text-align: right;\">\n",
       "      <th></th>\n",
       "      <th>Total_Employees</th>\n",
       "    </tr>\n",
       "  </thead>\n",
       "  <tbody>\n",
       "    <tr>\n",
       "      <th>0</th>\n",
       "      <td>4410</td>\n",
       "    </tr>\n",
       "  </tbody>\n",
       "</table>\n",
       "</div>"
      ],
      "text/plain": [
       "   Total_Employees\n",
       "0             4410"
      ]
     },
     "metadata": {},
     "output_type": "display_data"
    }
   ],
   "source": [
    "# Define the query\n",
    "query = \"SELECT COUNT(*) AS Total_Employees FROM hr_table\"\n",
    "# Call the function with the query\n",
    "execute_query(query)"
   ]
  },
  {
   "cell_type": "markdown",
   "id": "be68e51a",
   "metadata": {},
   "source": [
    "## 2. List all unique job roles in the dataset."
   ]
  },
  {
   "cell_type": "code",
   "execution_count": 13,
   "id": "8ef34046",
   "metadata": {},
   "outputs": [
    {
     "data": {
      "text/html": [
       "<div>\n",
       "<style scoped>\n",
       "    .dataframe tbody tr th:only-of-type {\n",
       "        vertical-align: middle;\n",
       "    }\n",
       "\n",
       "    .dataframe tbody tr th {\n",
       "        vertical-align: top;\n",
       "    }\n",
       "\n",
       "    .dataframe thead th {\n",
       "        text-align: right;\n",
       "    }\n",
       "</style>\n",
       "<table border=\"1\" class=\"dataframe\">\n",
       "  <thead>\n",
       "    <tr style=\"text-align: right;\">\n",
       "      <th></th>\n",
       "      <th>Job_Role</th>\n",
       "    </tr>\n",
       "  </thead>\n",
       "  <tbody>\n",
       "    <tr>\n",
       "      <th>0</th>\n",
       "      <td>Healthcare Representative</td>\n",
       "    </tr>\n",
       "    <tr>\n",
       "      <th>1</th>\n",
       "      <td>Research Scientist</td>\n",
       "    </tr>\n",
       "    <tr>\n",
       "      <th>2</th>\n",
       "      <td>Sales Executive</td>\n",
       "    </tr>\n",
       "    <tr>\n",
       "      <th>3</th>\n",
       "      <td>Human Resources</td>\n",
       "    </tr>\n",
       "    <tr>\n",
       "      <th>4</th>\n",
       "      <td>Research Director</td>\n",
       "    </tr>\n",
       "    <tr>\n",
       "      <th>5</th>\n",
       "      <td>Laboratory Technician</td>\n",
       "    </tr>\n",
       "    <tr>\n",
       "      <th>6</th>\n",
       "      <td>Manufacturing Director</td>\n",
       "    </tr>\n",
       "    <tr>\n",
       "      <th>7</th>\n",
       "      <td>Sales Representative</td>\n",
       "    </tr>\n",
       "    <tr>\n",
       "      <th>8</th>\n",
       "      <td>Manager</td>\n",
       "    </tr>\n",
       "  </tbody>\n",
       "</table>\n",
       "</div>"
      ],
      "text/plain": [
       "                    Job_Role\n",
       "0  Healthcare Representative\n",
       "1         Research Scientist\n",
       "2            Sales Executive\n",
       "3            Human Resources\n",
       "4          Research Director\n",
       "5      Laboratory Technician\n",
       "6     Manufacturing Director\n",
       "7       Sales Representative\n",
       "8                    Manager"
      ]
     },
     "metadata": {},
     "output_type": "display_data"
    }
   ],
   "source": [
    "# Define the query\n",
    "query = \"SELECT DISTINCT JobRole AS Job_Role FROM hr_table;\"\n",
    "# Call the function with the query\n",
    "execute_query(query)"
   ]
  },
  {
   "cell_type": "markdown",
   "id": "39bb1c84",
   "metadata": {},
   "source": [
    "## 3. Find the average age of employees."
   ]
  },
  {
   "cell_type": "code",
   "execution_count": 14,
   "id": "31d075c6",
   "metadata": {},
   "outputs": [
    {
     "data": {
      "text/html": [
       "<div>\n",
       "<style scoped>\n",
       "    .dataframe tbody tr th:only-of-type {\n",
       "        vertical-align: middle;\n",
       "    }\n",
       "\n",
       "    .dataframe tbody tr th {\n",
       "        vertical-align: top;\n",
       "    }\n",
       "\n",
       "    .dataframe thead th {\n",
       "        text-align: right;\n",
       "    }\n",
       "</style>\n",
       "<table border=\"1\" class=\"dataframe\">\n",
       "  <thead>\n",
       "    <tr style=\"text-align: right;\">\n",
       "      <th></th>\n",
       "      <th>Average_Age</th>\n",
       "    </tr>\n",
       "  </thead>\n",
       "  <tbody>\n",
       "    <tr>\n",
       "      <th>0</th>\n",
       "      <td>36.92381</td>\n",
       "    </tr>\n",
       "  </tbody>\n",
       "</table>\n",
       "</div>"
      ],
      "text/plain": [
       "   Average_Age\n",
       "0     36.92381"
      ]
     },
     "metadata": {},
     "output_type": "display_data"
    }
   ],
   "source": [
    "# Define the query\n",
    "query = \"SELECT AVG(Age) AS Average_Age FROM hr_table\"\n",
    "# Call the function with the query\n",
    "execute_query(query)"
   ]
  },
  {
   "cell_type": "markdown",
   "id": "af87a966",
   "metadata": {},
   "source": [
    "## 4. Retrieve the names and ages of employees who have worked at the company for more than 5 years"
   ]
  },
  {
   "cell_type": "code",
   "execution_count": 15,
   "id": "1e907026",
   "metadata": {},
   "outputs": [
    {
     "data": {
      "text/html": [
       "<div>\n",
       "<style scoped>\n",
       "    .dataframe tbody tr th:only-of-type {\n",
       "        vertical-align: middle;\n",
       "    }\n",
       "\n",
       "    .dataframe tbody tr th {\n",
       "        vertical-align: top;\n",
       "    }\n",
       "\n",
       "    .dataframe thead th {\n",
       "        text-align: right;\n",
       "    }\n",
       "</style>\n",
       "<table border=\"1\" class=\"dataframe\">\n",
       "  <thead>\n",
       "    <tr style=\"text-align: right;\">\n",
       "      <th></th>\n",
       "      <th>EmpName</th>\n",
       "      <th>Age</th>\n",
       "    </tr>\n",
       "  </thead>\n",
       "  <tbody>\n",
       "    <tr>\n",
       "      <th>0</th>\n",
       "      <td>RENEE MARQUARDT</td>\n",
       "      <td>38</td>\n",
       "    </tr>\n",
       "    <tr>\n",
       "      <th>1</th>\n",
       "      <td>HARVEY ELWIN</td>\n",
       "      <td>32</td>\n",
       "    </tr>\n",
       "    <tr>\n",
       "      <th>2</th>\n",
       "      <td>LEON WHITE</td>\n",
       "      <td>46</td>\n",
       "    </tr>\n",
       "    <tr>\n",
       "      <th>3</th>\n",
       "      <td>NATHAN HARDY</td>\n",
       "      <td>31</td>\n",
       "    </tr>\n",
       "    <tr>\n",
       "      <th>4</th>\n",
       "      <td>SUSAN BUCHBINDER</td>\n",
       "      <td>25</td>\n",
       "    </tr>\n",
       "    <tr>\n",
       "      <th>...</th>\n",
       "      <td>...</td>\n",
       "      <td>...</td>\n",
       "    </tr>\n",
       "    <tr>\n",
       "      <th>2077</th>\n",
       "      <td>GLACIER YBANEZ</td>\n",
       "      <td>34</td>\n",
       "    </tr>\n",
       "    <tr>\n",
       "      <th>2078</th>\n",
       "      <td>ISABELLE ALLOUKO FIANKAN</td>\n",
       "      <td>39</td>\n",
       "    </tr>\n",
       "    <tr>\n",
       "      <th>2079</th>\n",
       "      <td>STEVEN PONDER</td>\n",
       "      <td>29</td>\n",
       "    </tr>\n",
       "    <tr>\n",
       "      <th>2080</th>\n",
       "      <td>CHRISTINE MAY</td>\n",
       "      <td>42</td>\n",
       "    </tr>\n",
       "    <tr>\n",
       "      <th>2081</th>\n",
       "      <td>CLAIRE WHALEY</td>\n",
       "      <td>40</td>\n",
       "    </tr>\n",
       "  </tbody>\n",
       "</table>\n",
       "<p>2082 rows × 2 columns</p>\n",
       "</div>"
      ],
      "text/plain": [
       "                       EmpName Age\n",
       "0              RENEE MARQUARDT  38\n",
       "1                 HARVEY ELWIN  32\n",
       "2                   LEON WHITE  46\n",
       "3                 NATHAN HARDY  31\n",
       "4             SUSAN BUCHBINDER  25\n",
       "...                        ...  ..\n",
       "2077            GLACIER YBANEZ  34\n",
       "2078  ISABELLE ALLOUKO FIANKAN  39\n",
       "2079             STEVEN PONDER  29\n",
       "2080             CHRISTINE MAY  42\n",
       "2081             CLAIRE WHALEY  40\n",
       "\n",
       "[2082 rows x 2 columns]"
      ]
     },
     "metadata": {},
     "output_type": "display_data"
    }
   ],
   "source": [
    "# Define the query\n",
    "query = \"SELECT EmpName, Age FROM hr_table WHERE YearsAtCompany > 5;\"\n",
    "# Call the function with the query\n",
    "execute_query(query)"
   ]
  },
  {
   "cell_type": "markdown",
   "id": "111aaf9f",
   "metadata": {},
   "source": [
    "## 5. Get a count of employees grouped by their department."
   ]
  },
  {
   "cell_type": "code",
   "execution_count": 16,
   "id": "4ebca301",
   "metadata": {},
   "outputs": [
    {
     "data": {
      "text/html": [
       "<div>\n",
       "<style scoped>\n",
       "    .dataframe tbody tr th:only-of-type {\n",
       "        vertical-align: middle;\n",
       "    }\n",
       "\n",
       "    .dataframe tbody tr th {\n",
       "        vertical-align: top;\n",
       "    }\n",
       "\n",
       "    .dataframe thead th {\n",
       "        text-align: right;\n",
       "    }\n",
       "</style>\n",
       "<table border=\"1\" class=\"dataframe\">\n",
       "  <thead>\n",
       "    <tr style=\"text-align: right;\">\n",
       "      <th></th>\n",
       "      <th>Department</th>\n",
       "      <th>employee_count</th>\n",
       "    </tr>\n",
       "  </thead>\n",
       "  <tbody>\n",
       "    <tr>\n",
       "      <th>0</th>\n",
       "      <td>Sales</td>\n",
       "      <td>1338</td>\n",
       "    </tr>\n",
       "    <tr>\n",
       "      <th>1</th>\n",
       "      <td>Research &amp; Development</td>\n",
       "      <td>2883</td>\n",
       "    </tr>\n",
       "    <tr>\n",
       "      <th>2</th>\n",
       "      <td>Human Resources</td>\n",
       "      <td>189</td>\n",
       "    </tr>\n",
       "  </tbody>\n",
       "</table>\n",
       "</div>"
      ],
      "text/plain": [
       "               Department  employee_count\n",
       "0                   Sales            1338\n",
       "1  Research & Development            2883\n",
       "2         Human Resources             189"
      ]
     },
     "metadata": {},
     "output_type": "display_data"
    }
   ],
   "source": [
    "# Define the query\n",
    "query = \"SELECT Department, COUNT(*) AS employee_count FROM hr_table GROUP BY Department;\"\n",
    "# Call the function with the query\n",
    "execute_query(query)"
   ]
  },
  {
   "cell_type": "markdown",
   "id": "0a2d935d",
   "metadata": {},
   "source": [
    "## 6. List employees who have 'High' Job Satisfaction."
   ]
  },
  {
   "cell_type": "code",
   "execution_count": 17,
   "id": "8aab9145",
   "metadata": {},
   "outputs": [
    {
     "data": {
      "text/plain": [
       "1    1629\n",
       "2    1602\n",
       "3     654\n",
       "4     318\n",
       "5     207\n",
       "Name: JobLevel, dtype: int64"
      ]
     },
     "execution_count": 17,
     "metadata": {},
     "output_type": "execute_result"
    }
   ],
   "source": [
    "df['JobLevel'].value_counts()"
   ]
  },
  {
   "cell_type": "code",
   "execution_count": 18,
   "id": "32b0a39b",
   "metadata": {},
   "outputs": [
    {
     "data": {
      "text/html": [
       "<div>\n",
       "<style scoped>\n",
       "    .dataframe tbody tr th:only-of-type {\n",
       "        vertical-align: middle;\n",
       "    }\n",
       "\n",
       "    .dataframe tbody tr th {\n",
       "        vertical-align: top;\n",
       "    }\n",
       "\n",
       "    .dataframe thead th {\n",
       "        text-align: right;\n",
       "    }\n",
       "</style>\n",
       "<table border=\"1\" class=\"dataframe\">\n",
       "  <thead>\n",
       "    <tr style=\"text-align: right;\">\n",
       "      <th></th>\n",
       "      <th>EmployeeID</th>\n",
       "      <th>EMP_NAME_HIGH</th>\n",
       "    </tr>\n",
       "  </thead>\n",
       "  <tbody>\n",
       "    <tr>\n",
       "      <th>0</th>\n",
       "      <td>4</td>\n",
       "      <td>RENEE MARQUARDT</td>\n",
       "    </tr>\n",
       "    <tr>\n",
       "      <th>1</th>\n",
       "      <td>9</td>\n",
       "      <td>NATHAN HARDY</td>\n",
       "    </tr>\n",
       "    <tr>\n",
       "      <th>2</th>\n",
       "      <td>31</td>\n",
       "      <td>ROSELYN JEQUINTO</td>\n",
       "    </tr>\n",
       "    <tr>\n",
       "      <th>3</th>\n",
       "      <td>34</td>\n",
       "      <td>EUGENE GALEANO</td>\n",
       "    </tr>\n",
       "    <tr>\n",
       "      <th>4</th>\n",
       "      <td>38</td>\n",
       "      <td>JAMES VANNUCCHI</td>\n",
       "    </tr>\n",
       "    <tr>\n",
       "      <th>...</th>\n",
       "      <td>...</td>\n",
       "      <td>...</td>\n",
       "    </tr>\n",
       "    <tr>\n",
       "      <th>649</th>\n",
       "      <td>4377</td>\n",
       "      <td>JAMES TERRY</td>\n",
       "    </tr>\n",
       "    <tr>\n",
       "      <th>650</th>\n",
       "      <td>4378</td>\n",
       "      <td>GRACE KWAK</td>\n",
       "    </tr>\n",
       "    <tr>\n",
       "      <th>651</th>\n",
       "      <td>4391</td>\n",
       "      <td>ANDREA KOZIMOR</td>\n",
       "    </tr>\n",
       "    <tr>\n",
       "      <th>652</th>\n",
       "      <td>4392</td>\n",
       "      <td>JOE TONG</td>\n",
       "    </tr>\n",
       "    <tr>\n",
       "      <th>653</th>\n",
       "      <td>4402</td>\n",
       "      <td>ABUBAKER AZAM</td>\n",
       "    </tr>\n",
       "  </tbody>\n",
       "</table>\n",
       "<p>654 rows × 2 columns</p>\n",
       "</div>"
      ],
      "text/plain": [
       "    EmployeeID     EMP_NAME_HIGH\n",
       "0            4   RENEE MARQUARDT\n",
       "1            9      NATHAN HARDY\n",
       "2           31  ROSELYN JEQUINTO\n",
       "3           34    EUGENE GALEANO\n",
       "4           38   JAMES VANNUCCHI\n",
       "..         ...               ...\n",
       "649       4377       JAMES TERRY\n",
       "650       4378        GRACE KWAK\n",
       "651       4391    ANDREA KOZIMOR\n",
       "652       4392          JOE TONG\n",
       "653       4402     ABUBAKER AZAM\n",
       "\n",
       "[654 rows x 2 columns]"
      ]
     },
     "metadata": {},
     "output_type": "display_data"
    }
   ],
   "source": [
    "# Define the query\n",
    "query = \"SELECT EmployeeID, EmpName AS EMP_NAME_HIGH FROM hr_table WHERE JobLevel = 3;\"\n",
    "# Call the function with the query\n",
    "execute_query(query)"
   ]
  },
  {
   "cell_type": "markdown",
   "id": "531e99e8",
   "metadata": {},
   "source": [
    "## 7. Find the highest Monthly Income in the dataset."
   ]
  },
  {
   "cell_type": "code",
   "execution_count": 19,
   "id": "a6426fd7",
   "metadata": {},
   "outputs": [
    {
     "data": {
      "text/html": [
       "<div>\n",
       "<style scoped>\n",
       "    .dataframe tbody tr th:only-of-type {\n",
       "        vertical-align: middle;\n",
       "    }\n",
       "\n",
       "    .dataframe tbody tr th {\n",
       "        vertical-align: top;\n",
       "    }\n",
       "\n",
       "    .dataframe thead th {\n",
       "        text-align: right;\n",
       "    }\n",
       "</style>\n",
       "<table border=\"1\" class=\"dataframe\">\n",
       "  <thead>\n",
       "    <tr style=\"text-align: right;\">\n",
       "      <th></th>\n",
       "      <th>Highest_Income</th>\n",
       "    </tr>\n",
       "  </thead>\n",
       "  <tbody>\n",
       "    <tr>\n",
       "      <th>0</th>\n",
       "      <td>99980</td>\n",
       "    </tr>\n",
       "  </tbody>\n",
       "</table>\n",
       "</div>"
      ],
      "text/plain": [
       "  Highest_Income\n",
       "0          99980"
      ]
     },
     "metadata": {},
     "output_type": "display_data"
    }
   ],
   "source": [
    "# Define the query\n",
    "query = \"SELECT MAX(MonthlyIncome) AS Highest_Income FROM hr_table;\"\n",
    "# Call the function with the query\n",
    "execute_query(query)"
   ]
  },
  {
   "cell_type": "markdown",
   "id": "b0ef572f",
   "metadata": {},
   "source": [
    "## 8. List employees who have 'Travel_Rarely' as their BusinessTravel type."
   ]
  },
  {
   "cell_type": "code",
   "execution_count": 20,
   "id": "8519a993",
   "metadata": {},
   "outputs": [
    {
     "data": {
      "text/html": [
       "<div>\n",
       "<style scoped>\n",
       "    .dataframe tbody tr th:only-of-type {\n",
       "        vertical-align: middle;\n",
       "    }\n",
       "\n",
       "    .dataframe tbody tr th {\n",
       "        vertical-align: top;\n",
       "    }\n",
       "\n",
       "    .dataframe thead th {\n",
       "        text-align: right;\n",
       "    }\n",
       "</style>\n",
       "<table border=\"1\" class=\"dataframe\">\n",
       "  <thead>\n",
       "    <tr style=\"text-align: right;\">\n",
       "      <th></th>\n",
       "      <th>EmployeeID</th>\n",
       "      <th>EmpName</th>\n",
       "    </tr>\n",
       "  </thead>\n",
       "  <tbody>\n",
       "    <tr>\n",
       "      <th>0</th>\n",
       "      <td>1</td>\n",
       "      <td>ALBERTO PEDRUCO</td>\n",
       "    </tr>\n",
       "    <tr>\n",
       "      <th>1</th>\n",
       "      <td>5</td>\n",
       "      <td>HARVEY ELWIN</td>\n",
       "    </tr>\n",
       "    <tr>\n",
       "      <th>2</th>\n",
       "      <td>6</td>\n",
       "      <td>LEON WHITE</td>\n",
       "    </tr>\n",
       "    <tr>\n",
       "      <th>3</th>\n",
       "      <td>7</td>\n",
       "      <td>DENNIS HERRERA</td>\n",
       "    </tr>\n",
       "    <tr>\n",
       "      <th>4</th>\n",
       "      <td>8</td>\n",
       "      <td>DONALD BRYANT</td>\n",
       "    </tr>\n",
       "    <tr>\n",
       "      <th>...</th>\n",
       "      <td>...</td>\n",
       "      <td>...</td>\n",
       "    </tr>\n",
       "    <tr>\n",
       "      <th>3124</th>\n",
       "      <td>4406</td>\n",
       "      <td>MERRICK PASCUAL</td>\n",
       "    </tr>\n",
       "    <tr>\n",
       "      <th>3125</th>\n",
       "      <td>4407</td>\n",
       "      <td>JENNIFER CHING</td>\n",
       "    </tr>\n",
       "    <tr>\n",
       "      <th>3126</th>\n",
       "      <td>4408</td>\n",
       "      <td>KARTIK SHAH</td>\n",
       "    </tr>\n",
       "    <tr>\n",
       "      <th>3127</th>\n",
       "      <td>4409</td>\n",
       "      <td>CHRISTINE MAY</td>\n",
       "    </tr>\n",
       "    <tr>\n",
       "      <th>3128</th>\n",
       "      <td>4410</td>\n",
       "      <td>CLAIRE WHALEY</td>\n",
       "    </tr>\n",
       "  </tbody>\n",
       "</table>\n",
       "<p>3129 rows × 2 columns</p>\n",
       "</div>"
      ],
      "text/plain": [
       "     EmployeeID          EmpName\n",
       "0             1  ALBERTO PEDRUCO\n",
       "1             5     HARVEY ELWIN\n",
       "2             6       LEON WHITE\n",
       "3             7   DENNIS HERRERA\n",
       "4             8    DONALD BRYANT\n",
       "...         ...              ...\n",
       "3124       4406  MERRICK PASCUAL\n",
       "3125       4407   JENNIFER CHING\n",
       "3126       4408      KARTIK SHAH\n",
       "3127       4409    CHRISTINE MAY\n",
       "3128       4410    CLAIRE WHALEY\n",
       "\n",
       "[3129 rows x 2 columns]"
      ]
     },
     "metadata": {},
     "output_type": "display_data"
    }
   ],
   "source": [
    "# Define the query\n",
    "query = \"SELECT EmployeeID, EmpName FROM hr_table WHERE BusinessTravel = 'Travel_Rarely';\"\n",
    "# Call the function with the query\n",
    "execute_query(query)"
   ]
  },
  {
   "cell_type": "markdown",
   "id": "7276e3b9",
   "metadata": {},
   "source": [
    "## 9. Retrieve the distinct MaritalStatus categories in the dataset."
   ]
  },
  {
   "cell_type": "code",
   "execution_count": 21,
   "id": "11ab6034",
   "metadata": {},
   "outputs": [
    {
     "data": {
      "text/html": [
       "<div>\n",
       "<style scoped>\n",
       "    .dataframe tbody tr th:only-of-type {\n",
       "        vertical-align: middle;\n",
       "    }\n",
       "\n",
       "    .dataframe tbody tr th {\n",
       "        vertical-align: top;\n",
       "    }\n",
       "\n",
       "    .dataframe thead th {\n",
       "        text-align: right;\n",
       "    }\n",
       "</style>\n",
       "<table border=\"1\" class=\"dataframe\">\n",
       "  <thead>\n",
       "    <tr style=\"text-align: right;\">\n",
       "      <th></th>\n",
       "      <th>MaritalStatus</th>\n",
       "    </tr>\n",
       "  </thead>\n",
       "  <tbody>\n",
       "    <tr>\n",
       "      <th>0</th>\n",
       "      <td>Married</td>\n",
       "    </tr>\n",
       "    <tr>\n",
       "      <th>1</th>\n",
       "      <td>Single</td>\n",
       "    </tr>\n",
       "    <tr>\n",
       "      <th>2</th>\n",
       "      <td>Divorced</td>\n",
       "    </tr>\n",
       "  </tbody>\n",
       "</table>\n",
       "</div>"
      ],
      "text/plain": [
       "  MaritalStatus\n",
       "0       Married\n",
       "1        Single\n",
       "2      Divorced"
      ]
     },
     "metadata": {},
     "output_type": "display_data"
    }
   ],
   "source": [
    "# Define the query\n",
    "query = \"SELECT DISTINCT MaritalStatus FROM hr_table;\"\n",
    "# Call the function with the query\n",
    "execute_query(query)"
   ]
  },
  {
   "cell_type": "markdown",
   "id": "d8d465d0",
   "metadata": {},
   "source": [
    "## 10. Get a list of employees with more than 2 years of work experience but less than 4 years in their current role."
   ]
  },
  {
   "cell_type": "code",
   "execution_count": 22,
   "id": "1a9982a7",
   "metadata": {},
   "outputs": [
    {
     "data": {
      "text/plain": [
       "Index(['EmpName', 'Age', 'Attrition', 'BusinessTravel', 'Department',\n",
       "       'DistanceFromHome', 'Education', 'EducationField', 'EmployeeCount',\n",
       "       'EmployeeID', 'Gender', 'JobLevel', 'JobRole', 'MaritalStatus',\n",
       "       'MonthlyIncome', 'NumCompaniesWorked', 'Over18', 'PercentSalaryHike',\n",
       "       'StandardHours', 'StockOptionLevel', 'TotalWorkingYears',\n",
       "       'TrainingTimesLastYear', 'YearsAtCompany', 'YearsSinceLastPromotion',\n",
       "       'YearsWithCurrManager'],\n",
       "      dtype='object')"
      ]
     },
     "execution_count": 22,
     "metadata": {},
     "output_type": "execute_result"
    }
   ],
   "source": [
    "df.columns"
   ]
  },
  {
   "cell_type": "code",
   "execution_count": 23,
   "id": "206eaac8",
   "metadata": {},
   "outputs": [
    {
     "data": {
      "text/html": [
       "<div>\n",
       "<style scoped>\n",
       "    .dataframe tbody tr th:only-of-type {\n",
       "        vertical-align: middle;\n",
       "    }\n",
       "\n",
       "    .dataframe tbody tr th {\n",
       "        vertical-align: top;\n",
       "    }\n",
       "\n",
       "    .dataframe thead th {\n",
       "        text-align: right;\n",
       "    }\n",
       "</style>\n",
       "<table border=\"1\" class=\"dataframe\">\n",
       "  <thead>\n",
       "    <tr style=\"text-align: right;\">\n",
       "      <th></th>\n",
       "      <th>EmployeeID</th>\n",
       "      <th>EmpName</th>\n",
       "    </tr>\n",
       "  </thead>\n",
       "  <tbody>\n",
       "    <tr>\n",
       "      <th>0</th>\n",
       "      <td>3</td>\n",
       "      <td>DWAYNE CURRY</td>\n",
       "    </tr>\n",
       "    <tr>\n",
       "      <th>1</th>\n",
       "      <td>16</td>\n",
       "      <td>LUIS HERRERA</td>\n",
       "    </tr>\n",
       "    <tr>\n",
       "      <th>2</th>\n",
       "      <td>17</td>\n",
       "      <td>GEORGE FOURAS</td>\n",
       "    </tr>\n",
       "    <tr>\n",
       "      <th>3</th>\n",
       "      <td>18</td>\n",
       "      <td>MARTIN LALOR JR</td>\n",
       "    </tr>\n",
       "    <tr>\n",
       "      <th>4</th>\n",
       "      <td>23</td>\n",
       "      <td>OLLIE BANKS</td>\n",
       "    </tr>\n",
       "    <tr>\n",
       "      <th>...</th>\n",
       "      <td>...</td>\n",
       "      <td>...</td>\n",
       "    </tr>\n",
       "    <tr>\n",
       "      <th>1317</th>\n",
       "      <td>4401</td>\n",
       "      <td>STEPHANIE JOHNSON</td>\n",
       "    </tr>\n",
       "    <tr>\n",
       "      <th>1318</th>\n",
       "      <td>4402</td>\n",
       "      <td>ABUBAKER AZAM</td>\n",
       "    </tr>\n",
       "    <tr>\n",
       "      <th>1319</th>\n",
       "      <td>4406</td>\n",
       "      <td>MERRICK PASCUAL</td>\n",
       "    </tr>\n",
       "    <tr>\n",
       "      <th>1320</th>\n",
       "      <td>4407</td>\n",
       "      <td>JENNIFER CHING</td>\n",
       "    </tr>\n",
       "    <tr>\n",
       "      <th>1321</th>\n",
       "      <td>4408</td>\n",
       "      <td>KARTIK SHAH</td>\n",
       "    </tr>\n",
       "  </tbody>\n",
       "</table>\n",
       "<p>1322 rows × 2 columns</p>\n",
       "</div>"
      ],
      "text/plain": [
       "     EmployeeID            EmpName\n",
       "0             3       DWAYNE CURRY\n",
       "1            16       LUIS HERRERA\n",
       "2            17      GEORGE FOURAS\n",
       "3            18    MARTIN LALOR JR\n",
       "4            23        OLLIE BANKS\n",
       "...         ...                ...\n",
       "1317       4401  STEPHANIE JOHNSON\n",
       "1318       4402      ABUBAKER AZAM\n",
       "1319       4406    MERRICK PASCUAL\n",
       "1320       4407     JENNIFER CHING\n",
       "1321       4408        KARTIK SHAH\n",
       "\n",
       "[1322 rows x 2 columns]"
      ]
     },
     "metadata": {},
     "output_type": "display_data"
    }
   ],
   "source": [
    "# Define the query\n",
    "query = \"SELECT EmployeeID, EmpName FROM hr_table WHERE TotalWorkingYears > 2 AND YEARSATCOMPANY > 2 AND YearsWithCurrManager < 4 AND YearsSinceLastPromotion <4;\"\n",
    "# Call the function with the query\n",
    "execute_query(query)"
   ]
  },
  {
   "cell_type": "markdown",
   "id": "58933deb",
   "metadata": {},
   "source": [
    "## 11. List employees who have changed their job roles within the company (JobLevel and JobRole differ from their previous job)."
   ]
  },
  {
   "cell_type": "code",
   "execution_count": 24,
   "id": "a3006430",
   "metadata": {},
   "outputs": [
    {
     "name": "stdout",
     "output_type": "stream",
     "text": [
      "No results found.\n"
     ]
    }
   ],
   "source": [
    "# Define the query\n",
    "query = \"SELECT EmployeeID,EmpName,CurrentJobRole,PreviousJobRole,CurrentJobLevel,PreviousJobLevel FROM(SELECT EmployeeID, EmpName, JobRole AS CurrentJobRole, JobLevel AS CurrentJobLevel, LAG(JobRole) OVER (PARTITION BY EmployeeID ORDER BY YearsAtCompany) AS PreviousJobRole, LAG(JobLevel) OVER (PARTITION BY EmployeeID ORDER BY YearsAtCompany) AS PreviousJobLevel FROM hr_table ) AS JobChanges WHERE (CurrentJobRole <> PreviousJobRole) OR (CurrentJobLevel <> PreviousJobLevel);\"\n",
    "# Call the function with the query\n",
    "execute_query(query)"
   ]
  },
  {
   "cell_type": "markdown",
   "id": "7a3006fe",
   "metadata": {},
   "source": [
    "## 12. Find the average distance from home for employees in each department."
   ]
  },
  {
   "cell_type": "code",
   "execution_count": 25,
   "id": "4bd4dfa3",
   "metadata": {},
   "outputs": [
    {
     "data": {
      "text/html": [
       "<div>\n",
       "<style scoped>\n",
       "    .dataframe tbody tr th:only-of-type {\n",
       "        vertical-align: middle;\n",
       "    }\n",
       "\n",
       "    .dataframe tbody tr th {\n",
       "        vertical-align: top;\n",
       "    }\n",
       "\n",
       "    .dataframe thead th {\n",
       "        text-align: right;\n",
       "    }\n",
       "</style>\n",
       "<table border=\"1\" class=\"dataframe\">\n",
       "  <thead>\n",
       "    <tr style=\"text-align: right;\">\n",
       "      <th></th>\n",
       "      <th>Department</th>\n",
       "      <th>Avg_Distance</th>\n",
       "    </tr>\n",
       "  </thead>\n",
       "  <tbody>\n",
       "    <tr>\n",
       "      <th>0</th>\n",
       "      <td>Sales</td>\n",
       "      <td>9.230942</td>\n",
       "    </tr>\n",
       "    <tr>\n",
       "      <th>1</th>\n",
       "      <td>Research &amp; Development</td>\n",
       "      <td>9.236212</td>\n",
       "    </tr>\n",
       "    <tr>\n",
       "      <th>2</th>\n",
       "      <td>Human Resources</td>\n",
       "      <td>8.253968</td>\n",
       "    </tr>\n",
       "  </tbody>\n",
       "</table>\n",
       "</div>"
      ],
      "text/plain": [
       "               Department  Avg_Distance\n",
       "0                   Sales      9.230942\n",
       "1  Research & Development      9.236212\n",
       "2         Human Resources      8.253968"
      ]
     },
     "metadata": {},
     "output_type": "display_data"
    }
   ],
   "source": [
    "# Define the query\n",
    "query = \"SELECT Department, AVG(DistanceFromHome) AS Avg_Distance FROM hr_table GROUP BY Department;\"\n",
    "# Call the function with the query\n",
    "execute_query(query)"
   ]
  },
  {
   "cell_type": "markdown",
   "id": "ffa61d8c",
   "metadata": {},
   "source": [
    "## 13. Retrieve the top 5 employees with the highest MonthlyIncome."
   ]
  },
  {
   "cell_type": "code",
   "execution_count": 26,
   "id": "b28b8b36",
   "metadata": {},
   "outputs": [
    {
     "data": {
      "text/html": [
       "<div>\n",
       "<style scoped>\n",
       "    .dataframe tbody tr th:only-of-type {\n",
       "        vertical-align: middle;\n",
       "    }\n",
       "\n",
       "    .dataframe tbody tr th {\n",
       "        vertical-align: top;\n",
       "    }\n",
       "\n",
       "    .dataframe thead th {\n",
       "        text-align: right;\n",
       "    }\n",
       "</style>\n",
       "<table border=\"1\" class=\"dataframe\">\n",
       "  <thead>\n",
       "    <tr style=\"text-align: right;\">\n",
       "      <th></th>\n",
       "      <th>EmployeeID</th>\n",
       "      <th>EmpName</th>\n",
       "      <th>MonthlyIncome</th>\n",
       "    </tr>\n",
       "  </thead>\n",
       "  <tbody>\n",
       "    <tr>\n",
       "      <th>0</th>\n",
       "      <td>4126</td>\n",
       "      <td>REX CALAUNAN</td>\n",
       "      <td>99980</td>\n",
       "    </tr>\n",
       "    <tr>\n",
       "      <th>1</th>\n",
       "      <td>2656</td>\n",
       "      <td>THEODORE UNAEGBU</td>\n",
       "      <td>99980</td>\n",
       "    </tr>\n",
       "    <tr>\n",
       "      <th>2</th>\n",
       "      <td>1186</td>\n",
       "      <td>JAMES RAMSEY</td>\n",
       "      <td>99980</td>\n",
       "    </tr>\n",
       "    <tr>\n",
       "      <th>3</th>\n",
       "      <td>1662</td>\n",
       "      <td>LAURA KELLY</td>\n",
       "      <td>99910</td>\n",
       "    </tr>\n",
       "    <tr>\n",
       "      <th>4</th>\n",
       "      <td>3132</td>\n",
       "      <td>JOHN ST CROIX</td>\n",
       "      <td>99910</td>\n",
       "    </tr>\n",
       "  </tbody>\n",
       "</table>\n",
       "</div>"
      ],
      "text/plain": [
       "  EmployeeID           EmpName MonthlyIncome\n",
       "0       4126      REX CALAUNAN         99980\n",
       "1       2656  THEODORE UNAEGBU         99980\n",
       "2       1186      JAMES RAMSEY         99980\n",
       "3       1662       LAURA KELLY         99910\n",
       "4       3132     JOHN ST CROIX         99910"
      ]
     },
     "metadata": {},
     "output_type": "display_data"
    }
   ],
   "source": [
    "# Define the query\n",
    "query = \"SELECT EmployeeID, EmpName, MonthlyIncome FROM hr_table ORDER BY MonthlyIncome DESC LIMIT 5;\"\n",
    "# Call the function with the query\n",
    "execute_query(query)"
   ]
  },
  {
   "cell_type": "markdown",
   "id": "790603d7",
   "metadata": {},
   "source": [
    "## 14. Calculate the percentage of employees who have had a promotion in the last year."
   ]
  },
  {
   "cell_type": "code",
   "execution_count": 27,
   "id": "e2c44e09",
   "metadata": {},
   "outputs": [
    {
     "data": {
      "text/html": [
       "<div>\n",
       "<style scoped>\n",
       "    .dataframe tbody tr th:only-of-type {\n",
       "        vertical-align: middle;\n",
       "    }\n",
       "\n",
       "    .dataframe tbody tr th {\n",
       "        vertical-align: top;\n",
       "    }\n",
       "\n",
       "    .dataframe thead th {\n",
       "        text-align: right;\n",
       "    }\n",
       "</style>\n",
       "<table border=\"1\" class=\"dataframe\">\n",
       "  <thead>\n",
       "    <tr style=\"text-align: right;\">\n",
       "      <th></th>\n",
       "      <th>Promotion_Percentage</th>\n",
       "    </tr>\n",
       "  </thead>\n",
       "  <tbody>\n",
       "    <tr>\n",
       "      <th>0</th>\n",
       "      <td>63.8095</td>\n",
       "    </tr>\n",
       "  </tbody>\n",
       "</table>\n",
       "</div>"
      ],
      "text/plain": [
       "  Promotion_Percentage\n",
       "0              63.8095"
      ]
     },
     "metadata": {},
     "output_type": "display_data"
    }
   ],
   "source": [
    "# Define the query\n",
    "query = \"SELECT (COUNT(CASE WHEN YearsSinceLastPromotion <= 1 THEN 1 END) / COUNT(*)) * 100 AS Promotion_Percentage FROM hr_table;\"\n",
    "# Call the function with the query\n",
    "execute_query(query)"
   ]
  },
  {
   "cell_type": "markdown",
   "id": "c9516e1a",
   "metadata": {},
   "source": [
    "## 15. List the employees with the highest and lowest EnvironmentSatisfaction."
   ]
  },
  {
   "cell_type": "code",
   "execution_count": 28,
   "id": "67b8d14f",
   "metadata": {},
   "outputs": [],
   "source": [
    "# MySQL database connection details\n",
    "host = 'YOUR_HOST_NAME'\n",
    "user = 'YOUR_USER_NAME'\n",
    "password = 'YOUR_PASSWORD'\n",
    "database = 'hranalytics'"
   ]
  },
  {
   "cell_type": "code",
   "execution_count": 29,
   "id": "dee368b9",
   "metadata": {},
   "outputs": [],
   "source": [
    "# Create MySQL connection\n",
    "conn = mysql.connector.connect(host=host, user=user, password=password, database=database)\n",
    "cursor = conn.cursor()"
   ]
  },
  {
   "cell_type": "code",
   "execution_count": 30,
   "id": "787f857a",
   "metadata": {},
   "outputs": [],
   "source": [
    "# CSV file path\n",
    "csv_file = 'employee_survey_data.csv'  # Replace 'your_file.csv' with your CSV file path\n",
    "\n",
    "# Read the first row of the CSV to extract column names\n",
    "with open(csv_file, 'r') as file:\n",
    "    first_line = file.readline().strip()  # Read the first line\n",
    "    column_names = first_line.split(',')  # Assuming columns are comma-separated\n",
    "    file.close()"
   ]
  },
  {
   "cell_type": "code",
   "execution_count": 59,
   "id": "8fc4144e",
   "metadata": {},
   "outputs": [
    {
     "name": "stdout",
     "output_type": "stream",
     "text": [
      "Enter table name: employee_survey_table\n"
     ]
    }
   ],
   "source": [
    "# Name of table\n",
    "table_name = str(input(\"Enter table name: \"))\n",
    "\n",
    "# Create table with extracted column names\n",
    "create_table_query = f\"CREATE TABLE IF NOT EXISTS {table_name} ({', '.join([f'{col} TEXT' for col in column_names])})\"\n",
    "cursor.execute(create_table_query)"
   ]
  },
  {
   "cell_type": "code",
   "execution_count": 31,
   "id": "1387accb",
   "metadata": {},
   "outputs": [
    {
     "data": {
      "text/html": [
       "<div>\n",
       "<style scoped>\n",
       "    .dataframe tbody tr th:only-of-type {\n",
       "        vertical-align: middle;\n",
       "    }\n",
       "\n",
       "    .dataframe tbody tr th {\n",
       "        vertical-align: top;\n",
       "    }\n",
       "\n",
       "    .dataframe thead th {\n",
       "        text-align: right;\n",
       "    }\n",
       "</style>\n",
       "<table border=\"1\" class=\"dataframe\">\n",
       "  <thead>\n",
       "    <tr style=\"text-align: right;\">\n",
       "      <th></th>\n",
       "      <th>EmployeeID</th>\n",
       "      <th>EnvironmentSatisfaction</th>\n",
       "      <th>JobSatisfaction</th>\n",
       "      <th>WorkLifeBalance</th>\n",
       "    </tr>\n",
       "  </thead>\n",
       "  <tbody>\n",
       "    <tr>\n",
       "      <th>0</th>\n",
       "      <td>1</td>\n",
       "      <td>3.0</td>\n",
       "      <td>4.0</td>\n",
       "      <td>2.0</td>\n",
       "    </tr>\n",
       "    <tr>\n",
       "      <th>1</th>\n",
       "      <td>2</td>\n",
       "      <td>3.0</td>\n",
       "      <td>2.0</td>\n",
       "      <td>4.0</td>\n",
       "    </tr>\n",
       "    <tr>\n",
       "      <th>2</th>\n",
       "      <td>3</td>\n",
       "      <td>2.0</td>\n",
       "      <td>2.0</td>\n",
       "      <td>1.0</td>\n",
       "    </tr>\n",
       "    <tr>\n",
       "      <th>3</th>\n",
       "      <td>4</td>\n",
       "      <td>4.0</td>\n",
       "      <td>4.0</td>\n",
       "      <td>3.0</td>\n",
       "    </tr>\n",
       "    <tr>\n",
       "      <th>4</th>\n",
       "      <td>5</td>\n",
       "      <td>4.0</td>\n",
       "      <td>1.0</td>\n",
       "      <td>3.0</td>\n",
       "    </tr>\n",
       "  </tbody>\n",
       "</table>\n",
       "</div>"
      ],
      "text/plain": [
       "   EmployeeID  EnvironmentSatisfaction  JobSatisfaction  WorkLifeBalance\n",
       "0           1                      3.0              4.0              2.0\n",
       "1           2                      3.0              2.0              4.0\n",
       "2           3                      2.0              2.0              1.0\n",
       "3           4                      4.0              4.0              3.0\n",
       "4           5                      4.0              1.0              3.0"
      ]
     },
     "execution_count": 31,
     "metadata": {},
     "output_type": "execute_result"
    }
   ],
   "source": [
    "# Read the CSV file into a pandas DataFrame\n",
    "df = pd.read_csv(csv_file)\n",
    "df.head()"
   ]
  },
  {
   "cell_type": "code",
   "execution_count": 32,
   "id": "6a84ee16",
   "metadata": {},
   "outputs": [
    {
     "data": {
      "text/plain": [
       "(4410, 4)"
      ]
     },
     "execution_count": 32,
     "metadata": {},
     "output_type": "execute_result"
    }
   ],
   "source": [
    "# Checking shape of dataset\n",
    "df.shape"
   ]
  },
  {
   "cell_type": "code",
   "execution_count": 33,
   "id": "e271d79a",
   "metadata": {},
   "outputs": [
    {
     "data": {
      "text/plain": [
       "Index(['EmployeeID', 'EnvironmentSatisfaction', 'JobSatisfaction',\n",
       "       'WorkLifeBalance'],\n",
       "      dtype='object')"
      ]
     },
     "execution_count": 33,
     "metadata": {},
     "output_type": "execute_result"
    }
   ],
   "source": [
    "# Checking column names\n",
    "df.columns"
   ]
  },
  {
   "cell_type": "code",
   "execution_count": 63,
   "id": "491d8ac5",
   "metadata": {},
   "outputs": [
    {
     "name": "stdout",
     "output_type": "stream",
     "text": [
      "Table 'employee_survey_table' created and data loaded successfully.\n"
     ]
    }
   ],
   "source": [
    "# Insert data into the created table\n",
    "for _, row in df.iterrows():\n",
    "    # Handle NaN values by converting them to None\n",
    "    row = [None if pd.isna(value) else value for value in row]\n",
    "    \n",
    "    # Prepare and execute the insert query\n",
    "    insert_query = f\"INSERT INTO {table_name} ({', '.join(column_names)}) VALUES ({', '.join(['%s'] * len(column_names))})\"\n",
    "    cursor.execute(insert_query, tuple(row))\n",
    "\n",
    "# Commit changes and close the connection\n",
    "conn.commit()\n",
    "conn.close()\n",
    "\n",
    "print(f\"Table '{table_name}' created and data loaded successfully.\")"
   ]
  },
  {
   "cell_type": "code",
   "execution_count": 34,
   "id": "4403ab17",
   "metadata": {},
   "outputs": [
    {
     "name": "stdout",
     "output_type": "stream",
     "text": [
      "No results found.\n"
     ]
    }
   ],
   "source": [
    "# Define the query\n",
    "query = \"SELECT a.EmployeeID, a.EmpName,b.EnvironmentSatisfaction FROM hr_table a JOIN employee_survey_table b ON a.EmployeeID = b.EmployeeID WHERE b.EnvironmentSatisfaction IN (SELECT MAX(EnvironmentSatisfaction) FROM employee_survey_table UNION SELECT MIN(EnvironmentSatisfaction) FROM employee_survey_table)\"\n",
    "# Call the function with the query\n",
    "execute_query(query)"
   ]
  },
  {
   "cell_type": "markdown",
   "id": "d4b2eeb5",
   "metadata": {},
   "source": [
    "## 16. Find the employees who have the same JobRole and MaritalStatus."
   ]
  },
  {
   "cell_type": "code",
   "execution_count": 35,
   "id": "4a71059d",
   "metadata": {},
   "outputs": [
    {
     "data": {
      "text/html": [
       "<div>\n",
       "<style scoped>\n",
       "    .dataframe tbody tr th:only-of-type {\n",
       "        vertical-align: middle;\n",
       "    }\n",
       "\n",
       "    .dataframe tbody tr th {\n",
       "        vertical-align: top;\n",
       "    }\n",
       "\n",
       "    .dataframe thead th {\n",
       "        text-align: right;\n",
       "    }\n",
       "</style>\n",
       "<table border=\"1\" class=\"dataframe\">\n",
       "  <thead>\n",
       "    <tr style=\"text-align: right;\">\n",
       "      <th></th>\n",
       "      <th>EmployeeID</th>\n",
       "      <th>JobRole</th>\n",
       "      <th>MaritalStatus</th>\n",
       "    </tr>\n",
       "  </thead>\n",
       "  <tbody>\n",
       "    <tr>\n",
       "      <th>0</th>\n",
       "      <td>1006</td>\n",
       "      <td>Healthcare Representative</td>\n",
       "      <td>Divorced</td>\n",
       "    </tr>\n",
       "    <tr>\n",
       "      <th>1</th>\n",
       "      <td>1035</td>\n",
       "      <td>Healthcare Representative</td>\n",
       "      <td>Divorced</td>\n",
       "    </tr>\n",
       "    <tr>\n",
       "      <th>2</th>\n",
       "      <td>1078</td>\n",
       "      <td>Healthcare Representative</td>\n",
       "      <td>Divorced</td>\n",
       "    </tr>\n",
       "    <tr>\n",
       "      <th>3</th>\n",
       "      <td>1191</td>\n",
       "      <td>Healthcare Representative</td>\n",
       "      <td>Divorced</td>\n",
       "    </tr>\n",
       "    <tr>\n",
       "      <th>4</th>\n",
       "      <td>1313</td>\n",
       "      <td>Healthcare Representative</td>\n",
       "      <td>Divorced</td>\n",
       "    </tr>\n",
       "    <tr>\n",
       "      <th>...</th>\n",
       "      <td>...</td>\n",
       "      <td>...</td>\n",
       "      <td>...</td>\n",
       "    </tr>\n",
       "    <tr>\n",
       "      <th>4405</th>\n",
       "      <td>791</td>\n",
       "      <td>Sales Representative</td>\n",
       "      <td>Single</td>\n",
       "    </tr>\n",
       "    <tr>\n",
       "      <th>4406</th>\n",
       "      <td>80</td>\n",
       "      <td>Sales Representative</td>\n",
       "      <td>Single</td>\n",
       "    </tr>\n",
       "    <tr>\n",
       "      <th>4407</th>\n",
       "      <td>865</td>\n",
       "      <td>Sales Representative</td>\n",
       "      <td>Single</td>\n",
       "    </tr>\n",
       "    <tr>\n",
       "      <th>4408</th>\n",
       "      <td>940</td>\n",
       "      <td>Sales Representative</td>\n",
       "      <td>Single</td>\n",
       "    </tr>\n",
       "    <tr>\n",
       "      <th>4409</th>\n",
       "      <td>996</td>\n",
       "      <td>Sales Representative</td>\n",
       "      <td>Single</td>\n",
       "    </tr>\n",
       "  </tbody>\n",
       "</table>\n",
       "<p>4410 rows × 3 columns</p>\n",
       "</div>"
      ],
      "text/plain": [
       "     EmployeeID                    JobRole MaritalStatus\n",
       "0          1006  Healthcare Representative      Divorced\n",
       "1          1035  Healthcare Representative      Divorced\n",
       "2          1078  Healthcare Representative      Divorced\n",
       "3          1191  Healthcare Representative      Divorced\n",
       "4          1313  Healthcare Representative      Divorced\n",
       "...         ...                        ...           ...\n",
       "4405        791       Sales Representative        Single\n",
       "4406         80       Sales Representative        Single\n",
       "4407        865       Sales Representative        Single\n",
       "4408        940       Sales Representative        Single\n",
       "4409        996       Sales Representative        Single\n",
       "\n",
       "[4410 rows x 3 columns]"
      ]
     },
     "metadata": {},
     "output_type": "display_data"
    }
   ],
   "source": [
    "# Define the query\n",
    "query = \"SELECT EmployeeID, JobRole, MaritalStatus FROM hr_table e1 WHERE EXISTS (SELECT 1 FROM hr_table e2 WHERE e1.EmployeeID <> e2.EmployeeID AND e1.JobRole = e2.JobRole AND e1.MaritalStatus = e2.MaritalStatus) ORDER BY JobRole, MaritalStatus, EmployeeID;\"\n",
    "# Call the function with the query\n",
    "execute_query(query)"
   ]
  },
  {
   "cell_type": "markdown",
   "id": "6ce394cc",
   "metadata": {},
   "source": [
    "## 17. List the employees with the highest TotalWorkingYears who also have a PerformanceRating of 4."
   ]
  },
  {
   "cell_type": "code",
   "execution_count": 36,
   "id": "cd5dc32b",
   "metadata": {},
   "outputs": [],
   "source": [
    "# CSV file path\n",
    "csv_file = 'manager_survey_data.csv'  # Replace 'your_file.csv' with your CSV file path\n",
    "\n",
    "# Read the first row of the CSV to extract column names\n",
    "with open(csv_file, 'r') as file:\n",
    "    first_line = file.readline().strip()  # Read the first line\n",
    "    column_names = first_line.split(',')  # Assuming columns are comma-separated\n",
    "    file.close()"
   ]
  },
  {
   "cell_type": "code",
   "execution_count": 73,
   "id": "7f709085",
   "metadata": {},
   "outputs": [
    {
     "name": "stdout",
     "output_type": "stream",
     "text": [
      "Enter table name: manager_survey_table\n"
     ]
    }
   ],
   "source": [
    "# Name of table\n",
    "table_name = str(input(\"Enter table name: \"))\n",
    "\n",
    "# Create table with extracted column names\n",
    "create_table_query = f\"CREATE TABLE IF NOT EXISTS {table_name} ({', '.join([f'{col} TEXT' for col in column_names])})\"\n",
    "cursor.execute(create_table_query)"
   ]
  },
  {
   "cell_type": "code",
   "execution_count": 37,
   "id": "fe13cfe9",
   "metadata": {},
   "outputs": [
    {
     "data": {
      "text/html": [
       "<div>\n",
       "<style scoped>\n",
       "    .dataframe tbody tr th:only-of-type {\n",
       "        vertical-align: middle;\n",
       "    }\n",
       "\n",
       "    .dataframe tbody tr th {\n",
       "        vertical-align: top;\n",
       "    }\n",
       "\n",
       "    .dataframe thead th {\n",
       "        text-align: right;\n",
       "    }\n",
       "</style>\n",
       "<table border=\"1\" class=\"dataframe\">\n",
       "  <thead>\n",
       "    <tr style=\"text-align: right;\">\n",
       "      <th></th>\n",
       "      <th>EmployeeID</th>\n",
       "      <th>JobInvolvement</th>\n",
       "      <th>PerformanceRating</th>\n",
       "    </tr>\n",
       "  </thead>\n",
       "  <tbody>\n",
       "    <tr>\n",
       "      <th>0</th>\n",
       "      <td>1</td>\n",
       "      <td>3</td>\n",
       "      <td>3</td>\n",
       "    </tr>\n",
       "    <tr>\n",
       "      <th>1</th>\n",
       "      <td>2</td>\n",
       "      <td>2</td>\n",
       "      <td>4</td>\n",
       "    </tr>\n",
       "    <tr>\n",
       "      <th>2</th>\n",
       "      <td>3</td>\n",
       "      <td>3</td>\n",
       "      <td>3</td>\n",
       "    </tr>\n",
       "    <tr>\n",
       "      <th>3</th>\n",
       "      <td>4</td>\n",
       "      <td>2</td>\n",
       "      <td>3</td>\n",
       "    </tr>\n",
       "    <tr>\n",
       "      <th>4</th>\n",
       "      <td>5</td>\n",
       "      <td>3</td>\n",
       "      <td>3</td>\n",
       "    </tr>\n",
       "  </tbody>\n",
       "</table>\n",
       "</div>"
      ],
      "text/plain": [
       "   EmployeeID  JobInvolvement  PerformanceRating\n",
       "0           1               3                  3\n",
       "1           2               2                  4\n",
       "2           3               3                  3\n",
       "3           4               2                  3\n",
       "4           5               3                  3"
      ]
     },
     "execution_count": 37,
     "metadata": {},
     "output_type": "execute_result"
    }
   ],
   "source": [
    "# Read the CSV file into a pandas DataFrame\n",
    "df = pd.read_csv(csv_file)\n",
    "df.head()"
   ]
  },
  {
   "cell_type": "code",
   "execution_count": 38,
   "id": "37b978a2",
   "metadata": {},
   "outputs": [
    {
     "data": {
      "text/plain": [
       "(4410, 3)"
      ]
     },
     "execution_count": 38,
     "metadata": {},
     "output_type": "execute_result"
    }
   ],
   "source": [
    "# Checking shape of dataset\n",
    "df.shape"
   ]
  },
  {
   "cell_type": "code",
   "execution_count": 39,
   "id": "afcaf4ec",
   "metadata": {},
   "outputs": [
    {
     "data": {
      "text/plain": [
       "Index(['EmployeeID', 'JobInvolvement', 'PerformanceRating'], dtype='object')"
      ]
     },
     "execution_count": 39,
     "metadata": {},
     "output_type": "execute_result"
    }
   ],
   "source": [
    "# Checking column names\n",
    "df.columns"
   ]
  },
  {
   "cell_type": "code",
   "execution_count": 77,
   "id": "f23ed089",
   "metadata": {},
   "outputs": [
    {
     "name": "stdout",
     "output_type": "stream",
     "text": [
      "Table 'manager_survey_table' created and data loaded successfully.\n"
     ]
    }
   ],
   "source": [
    "# Insert data into the created table\n",
    "for _, row in df.iterrows():\n",
    "    # Handle NaN values by converting them to None\n",
    "    row = [None if pd.isna(value) else value for value in row]\n",
    "    \n",
    "    # Prepare and execute the insert query\n",
    "    insert_query = f\"INSERT INTO {table_name} ({', '.join(column_names)}) VALUES ({', '.join(['%s'] * len(column_names))})\"\n",
    "    cursor.execute(insert_query, tuple(row))\n",
    "\n",
    "# Commit changes and close the connection\n",
    "conn.commit()\n",
    "conn.close()\n",
    "\n",
    "print(f\"Table '{table_name}' created and data loaded successfully.\")"
   ]
  },
  {
   "cell_type": "code",
   "execution_count": 40,
   "id": "03e0d5f5",
   "metadata": {},
   "outputs": [
    {
     "data": {
      "text/html": [
       "<div>\n",
       "<style scoped>\n",
       "    .dataframe tbody tr th:only-of-type {\n",
       "        vertical-align: middle;\n",
       "    }\n",
       "\n",
       "    .dataframe tbody tr th {\n",
       "        vertical-align: top;\n",
       "    }\n",
       "\n",
       "    .dataframe thead th {\n",
       "        text-align: right;\n",
       "    }\n",
       "</style>\n",
       "<table border=\"1\" class=\"dataframe\">\n",
       "  <thead>\n",
       "    <tr style=\"text-align: right;\">\n",
       "      <th></th>\n",
       "      <th>EmployeeID</th>\n",
       "      <th>EmpName</th>\n",
       "      <th>TotalWorkingYears</th>\n",
       "      <th>PerformanceRating</th>\n",
       "    </tr>\n",
       "  </thead>\n",
       "  <tbody>\n",
       "    <tr>\n",
       "      <th>0</th>\n",
       "      <td>45</td>\n",
       "      <td>NOEL MORONEY</td>\n",
       "      <td>9.0</td>\n",
       "      <td>4</td>\n",
       "    </tr>\n",
       "    <tr>\n",
       "      <th>1</th>\n",
       "      <td>53</td>\n",
       "      <td>STEPHEN TACCHINI</td>\n",
       "      <td>9.0</td>\n",
       "      <td>4</td>\n",
       "    </tr>\n",
       "    <tr>\n",
       "      <th>2</th>\n",
       "      <td>121</td>\n",
       "      <td>MICHAEL HENNESSEY</td>\n",
       "      <td>9.0</td>\n",
       "      <td>4</td>\n",
       "    </tr>\n",
       "    <tr>\n",
       "      <th>3</th>\n",
       "      <td>195</td>\n",
       "      <td>DOMINIC CELAYA</td>\n",
       "      <td>9.0</td>\n",
       "      <td>4</td>\n",
       "    </tr>\n",
       "    <tr>\n",
       "      <th>4</th>\n",
       "      <td>267</td>\n",
       "      <td>RICHARD ZERCHER</td>\n",
       "      <td>9.0</td>\n",
       "      <td>4</td>\n",
       "    </tr>\n",
       "    <tr>\n",
       "      <th>5</th>\n",
       "      <td>273</td>\n",
       "      <td>ELAINE COLEMAN</td>\n",
       "      <td>9.0</td>\n",
       "      <td>4</td>\n",
       "    </tr>\n",
       "    <tr>\n",
       "      <th>6</th>\n",
       "      <td>353</td>\n",
       "      <td>CURTIS LUM</td>\n",
       "      <td>9.0</td>\n",
       "      <td>4</td>\n",
       "    </tr>\n",
       "    <tr>\n",
       "      <th>7</th>\n",
       "      <td>534</td>\n",
       "      <td>JONATHAN FUCHS</td>\n",
       "      <td>9.0</td>\n",
       "      <td>4</td>\n",
       "    </tr>\n",
       "    <tr>\n",
       "      <th>8</th>\n",
       "      <td>582</td>\n",
       "      <td>MICHAEL FAVETTI</td>\n",
       "      <td>9.0</td>\n",
       "      <td>4</td>\n",
       "    </tr>\n",
       "    <tr>\n",
       "      <th>9</th>\n",
       "      <td>632</td>\n",
       "      <td>MARC PEARSON</td>\n",
       "      <td>9.0</td>\n",
       "      <td>4</td>\n",
       "    </tr>\n",
       "    <tr>\n",
       "      <th>10</th>\n",
       "      <td>916</td>\n",
       "      <td>FRANK AGNOST</td>\n",
       "      <td>9.0</td>\n",
       "      <td>4</td>\n",
       "    </tr>\n",
       "    <tr>\n",
       "      <th>11</th>\n",
       "      <td>1093</td>\n",
       "      <td>VINCE CHHABRIA</td>\n",
       "      <td>9.0</td>\n",
       "      <td>4</td>\n",
       "    </tr>\n",
       "    <tr>\n",
       "      <th>12</th>\n",
       "      <td>1244</td>\n",
       "      <td>MICHAEL TEUPEL</td>\n",
       "      <td>9.0</td>\n",
       "      <td>4</td>\n",
       "    </tr>\n",
       "    <tr>\n",
       "      <th>13</th>\n",
       "      <td>1256</td>\n",
       "      <td>MICHAEL MOODY</td>\n",
       "      <td>9.0</td>\n",
       "      <td>4</td>\n",
       "    </tr>\n",
       "    <tr>\n",
       "      <th>14</th>\n",
       "      <td>1269</td>\n",
       "      <td>MICHELLE DURGY</td>\n",
       "      <td>9.0</td>\n",
       "      <td>4</td>\n",
       "    </tr>\n",
       "    <tr>\n",
       "      <th>15</th>\n",
       "      <td>1302</td>\n",
       "      <td>ALEX TAKAOKA</td>\n",
       "      <td>9.0</td>\n",
       "      <td>4</td>\n",
       "    </tr>\n",
       "    <tr>\n",
       "      <th>16</th>\n",
       "      <td>1354</td>\n",
       "      <td>DANTE GIOVANNELLI</td>\n",
       "      <td>9.0</td>\n",
       "      <td>4</td>\n",
       "    </tr>\n",
       "    <tr>\n",
       "      <th>17</th>\n",
       "      <td>1357</td>\n",
       "      <td>KEVIN BYRNE</td>\n",
       "      <td>9.0</td>\n",
       "      <td>4</td>\n",
       "    </tr>\n",
       "    <tr>\n",
       "      <th>18</th>\n",
       "      <td>1515</td>\n",
       "      <td>LEONARDO HARRIS</td>\n",
       "      <td>9.0</td>\n",
       "      <td>4</td>\n",
       "    </tr>\n",
       "    <tr>\n",
       "      <th>19</th>\n",
       "      <td>1523</td>\n",
       "      <td>JOSEPH CORDES</td>\n",
       "      <td>9.0</td>\n",
       "      <td>4</td>\n",
       "    </tr>\n",
       "    <tr>\n",
       "      <th>20</th>\n",
       "      <td>1591</td>\n",
       "      <td>JASON REICHARD</td>\n",
       "      <td>9.0</td>\n",
       "      <td>4</td>\n",
       "    </tr>\n",
       "    <tr>\n",
       "      <th>21</th>\n",
       "      <td>1665</td>\n",
       "      <td>CHANH PHUNG</td>\n",
       "      <td>9.0</td>\n",
       "      <td>4</td>\n",
       "    </tr>\n",
       "    <tr>\n",
       "      <th>22</th>\n",
       "      <td>1737</td>\n",
       "      <td>EDGARDO VERGARA</td>\n",
       "      <td>9.0</td>\n",
       "      <td>4</td>\n",
       "    </tr>\n",
       "    <tr>\n",
       "      <th>23</th>\n",
       "      <td>1743</td>\n",
       "      <td>PATRICK D'ARCY</td>\n",
       "      <td>9.0</td>\n",
       "      <td>4</td>\n",
       "    </tr>\n",
       "    <tr>\n",
       "      <th>24</th>\n",
       "      <td>1823</td>\n",
       "      <td>LORENZO DONATI</td>\n",
       "      <td>9.0</td>\n",
       "      <td>4</td>\n",
       "    </tr>\n",
       "    <tr>\n",
       "      <th>25</th>\n",
       "      <td>2004</td>\n",
       "      <td>BRENDA WALKER</td>\n",
       "      <td>9.0</td>\n",
       "      <td>4</td>\n",
       "    </tr>\n",
       "    <tr>\n",
       "      <th>26</th>\n",
       "      <td>2052</td>\n",
       "      <td>SIDNEY LAWS</td>\n",
       "      <td>9.0</td>\n",
       "      <td>4</td>\n",
       "    </tr>\n",
       "    <tr>\n",
       "      <th>27</th>\n",
       "      <td>2102</td>\n",
       "      <td>RYAN JONES</td>\n",
       "      <td>9.0</td>\n",
       "      <td>4</td>\n",
       "    </tr>\n",
       "    <tr>\n",
       "      <th>28</th>\n",
       "      <td>2386</td>\n",
       "      <td>JENNIFER CHON</td>\n",
       "      <td>9.0</td>\n",
       "      <td>4</td>\n",
       "    </tr>\n",
       "    <tr>\n",
       "      <th>29</th>\n",
       "      <td>2563</td>\n",
       "      <td>REY BUZON</td>\n",
       "      <td>9.0</td>\n",
       "      <td>4</td>\n",
       "    </tr>\n",
       "    <tr>\n",
       "      <th>30</th>\n",
       "      <td>2714</td>\n",
       "      <td>DANIEL COTTER</td>\n",
       "      <td>9.0</td>\n",
       "      <td>4</td>\n",
       "    </tr>\n",
       "    <tr>\n",
       "      <th>31</th>\n",
       "      <td>2726</td>\n",
       "      <td>JOHN DRAKE</td>\n",
       "      <td>9.0</td>\n",
       "      <td>4</td>\n",
       "    </tr>\n",
       "    <tr>\n",
       "      <th>32</th>\n",
       "      <td>2739</td>\n",
       "      <td>RAQUEL ALFONZO-YUMUL</td>\n",
       "      <td>9.0</td>\n",
       "      <td>4</td>\n",
       "    </tr>\n",
       "    <tr>\n",
       "      <th>33</th>\n",
       "      <td>2772</td>\n",
       "      <td>DAVID LOUSTALOT</td>\n",
       "      <td>9.0</td>\n",
       "      <td>4</td>\n",
       "    </tr>\n",
       "    <tr>\n",
       "      <th>34</th>\n",
       "      <td>2824</td>\n",
       "      <td>THOMAS WORTMAN</td>\n",
       "      <td>9.0</td>\n",
       "      <td>4</td>\n",
       "    </tr>\n",
       "    <tr>\n",
       "      <th>35</th>\n",
       "      <td>2827</td>\n",
       "      <td>ROSEMARIE SMITH</td>\n",
       "      <td>9.0</td>\n",
       "      <td>4</td>\n",
       "    </tr>\n",
       "    <tr>\n",
       "      <th>36</th>\n",
       "      <td>2985</td>\n",
       "      <td>TIMOTHY KELLY</td>\n",
       "      <td>9.0</td>\n",
       "      <td>4</td>\n",
       "    </tr>\n",
       "    <tr>\n",
       "      <th>37</th>\n",
       "      <td>2993</td>\n",
       "      <td>MARK MORENO</td>\n",
       "      <td>9.0</td>\n",
       "      <td>4</td>\n",
       "    </tr>\n",
       "    <tr>\n",
       "      <th>38</th>\n",
       "      <td>3061</td>\n",
       "      <td>TONY LEUNG</td>\n",
       "      <td>9.0</td>\n",
       "      <td>4</td>\n",
       "    </tr>\n",
       "    <tr>\n",
       "      <th>39</th>\n",
       "      <td>3135</td>\n",
       "      <td>MELONEE ALVAREZ</td>\n",
       "      <td>9.0</td>\n",
       "      <td>4</td>\n",
       "    </tr>\n",
       "    <tr>\n",
       "      <th>40</th>\n",
       "      <td>3207</td>\n",
       "      <td>PATRICIA CORREA</td>\n",
       "      <td>9.0</td>\n",
       "      <td>4</td>\n",
       "    </tr>\n",
       "    <tr>\n",
       "      <th>41</th>\n",
       "      <td>3213</td>\n",
       "      <td>JULIE LYNCH</td>\n",
       "      <td>9.0</td>\n",
       "      <td>4</td>\n",
       "    </tr>\n",
       "    <tr>\n",
       "      <th>42</th>\n",
       "      <td>3293</td>\n",
       "      <td>FRANCES WILLIAMS</td>\n",
       "      <td>9.0</td>\n",
       "      <td>4</td>\n",
       "    </tr>\n",
       "    <tr>\n",
       "      <th>43</th>\n",
       "      <td>3474</td>\n",
       "      <td>MARCO MAGALLON</td>\n",
       "      <td>9.0</td>\n",
       "      <td>4</td>\n",
       "    </tr>\n",
       "    <tr>\n",
       "      <th>44</th>\n",
       "      <td>3522</td>\n",
       "      <td>DIANE OSHIMA</td>\n",
       "      <td>9.0</td>\n",
       "      <td>4</td>\n",
       "    </tr>\n",
       "    <tr>\n",
       "      <th>45</th>\n",
       "      <td>3572</td>\n",
       "      <td>NELLIE SARTE</td>\n",
       "      <td>9.0</td>\n",
       "      <td>4</td>\n",
       "    </tr>\n",
       "    <tr>\n",
       "      <th>46</th>\n",
       "      <td>3856</td>\n",
       "      <td>PATRICK DUDY</td>\n",
       "      <td>9.0</td>\n",
       "      <td>4</td>\n",
       "    </tr>\n",
       "    <tr>\n",
       "      <th>47</th>\n",
       "      <td>4033</td>\n",
       "      <td>WAYLAND LEE</td>\n",
       "      <td>9.0</td>\n",
       "      <td>4</td>\n",
       "    </tr>\n",
       "    <tr>\n",
       "      <th>48</th>\n",
       "      <td>4184</td>\n",
       "      <td>BRADFORD BENSON</td>\n",
       "      <td>9.0</td>\n",
       "      <td>4</td>\n",
       "    </tr>\n",
       "    <tr>\n",
       "      <th>49</th>\n",
       "      <td>4196</td>\n",
       "      <td>BRIAN CHEU</td>\n",
       "      <td>9.0</td>\n",
       "      <td>4</td>\n",
       "    </tr>\n",
       "    <tr>\n",
       "      <th>50</th>\n",
       "      <td>4209</td>\n",
       "      <td>MATTHEW WAYNE</td>\n",
       "      <td>9.0</td>\n",
       "      <td>4</td>\n",
       "    </tr>\n",
       "    <tr>\n",
       "      <th>51</th>\n",
       "      <td>4242</td>\n",
       "      <td>JAROME WINESBERRY</td>\n",
       "      <td>9.0</td>\n",
       "      <td>4</td>\n",
       "    </tr>\n",
       "    <tr>\n",
       "      <th>52</th>\n",
       "      <td>4294</td>\n",
       "      <td>RAYMOND NG</td>\n",
       "      <td>9.0</td>\n",
       "      <td>4</td>\n",
       "    </tr>\n",
       "    <tr>\n",
       "      <th>53</th>\n",
       "      <td>4297</td>\n",
       "      <td>QINGWEN XI</td>\n",
       "      <td>9.0</td>\n",
       "      <td>4</td>\n",
       "    </tr>\n",
       "  </tbody>\n",
       "</table>\n",
       "</div>"
      ],
      "text/plain": [
       "   EmployeeID               EmpName TotalWorkingYears PerformanceRating\n",
       "0          45          NOEL MORONEY               9.0                 4\n",
       "1          53      STEPHEN TACCHINI               9.0                 4\n",
       "2         121     MICHAEL HENNESSEY               9.0                 4\n",
       "3         195        DOMINIC CELAYA               9.0                 4\n",
       "4         267       RICHARD ZERCHER               9.0                 4\n",
       "5         273        ELAINE COLEMAN               9.0                 4\n",
       "6         353            CURTIS LUM               9.0                 4\n",
       "7         534        JONATHAN FUCHS               9.0                 4\n",
       "8         582       MICHAEL FAVETTI               9.0                 4\n",
       "9         632          MARC PEARSON               9.0                 4\n",
       "10        916          FRANK AGNOST               9.0                 4\n",
       "11       1093        VINCE CHHABRIA               9.0                 4\n",
       "12       1244        MICHAEL TEUPEL               9.0                 4\n",
       "13       1256         MICHAEL MOODY               9.0                 4\n",
       "14       1269        MICHELLE DURGY               9.0                 4\n",
       "15       1302          ALEX TAKAOKA               9.0                 4\n",
       "16       1354     DANTE GIOVANNELLI               9.0                 4\n",
       "17       1357           KEVIN BYRNE               9.0                 4\n",
       "18       1515       LEONARDO HARRIS               9.0                 4\n",
       "19       1523         JOSEPH CORDES               9.0                 4\n",
       "20       1591        JASON REICHARD               9.0                 4\n",
       "21       1665           CHANH PHUNG               9.0                 4\n",
       "22       1737       EDGARDO VERGARA               9.0                 4\n",
       "23       1743        PATRICK D'ARCY               9.0                 4\n",
       "24       1823        LORENZO DONATI               9.0                 4\n",
       "25       2004         BRENDA WALKER               9.0                 4\n",
       "26       2052           SIDNEY LAWS               9.0                 4\n",
       "27       2102            RYAN JONES               9.0                 4\n",
       "28       2386         JENNIFER CHON               9.0                 4\n",
       "29       2563             REY BUZON               9.0                 4\n",
       "30       2714         DANIEL COTTER               9.0                 4\n",
       "31       2726            JOHN DRAKE               9.0                 4\n",
       "32       2739  RAQUEL ALFONZO-YUMUL               9.0                 4\n",
       "33       2772       DAVID LOUSTALOT               9.0                 4\n",
       "34       2824        THOMAS WORTMAN               9.0                 4\n",
       "35       2827       ROSEMARIE SMITH               9.0                 4\n",
       "36       2985         TIMOTHY KELLY               9.0                 4\n",
       "37       2993           MARK MORENO               9.0                 4\n",
       "38       3061            TONY LEUNG               9.0                 4\n",
       "39       3135       MELONEE ALVAREZ               9.0                 4\n",
       "40       3207       PATRICIA CORREA               9.0                 4\n",
       "41       3213           JULIE LYNCH               9.0                 4\n",
       "42       3293      FRANCES WILLIAMS               9.0                 4\n",
       "43       3474        MARCO MAGALLON               9.0                 4\n",
       "44       3522          DIANE OSHIMA               9.0                 4\n",
       "45       3572          NELLIE SARTE               9.0                 4\n",
       "46       3856          PATRICK DUDY               9.0                 4\n",
       "47       4033           WAYLAND LEE               9.0                 4\n",
       "48       4184       BRADFORD BENSON               9.0                 4\n",
       "49       4196            BRIAN CHEU               9.0                 4\n",
       "50       4209         MATTHEW WAYNE               9.0                 4\n",
       "51       4242     JAROME WINESBERRY               9.0                 4\n",
       "52       4294            RAYMOND NG               9.0                 4\n",
       "53       4297            QINGWEN XI               9.0                 4"
      ]
     },
     "metadata": {},
     "output_type": "display_data"
    }
   ],
   "source": [
    "# Define the query\n",
    "query = \"SELECT a.EmployeeID, a.EmpName, a.TotalWorkingYears, b.PerformanceRating FROM hr_table a JOIN manager_survey_table b ON a.EmployeeID = b.EmployeeID WHERE b.PerformanceRating = 4 AND a.TotalWorkingYears = (SELECT MAX(TotalWorkingYears) FROM hr_table WHERE EmployeeID IN (SELECT EmployeeID FROM manager_survey_table WHERE PerformanceRating = 4));\"\n",
    "# Call the function with the query\n",
    "execute_query(query)"
   ]
  },
  {
   "cell_type": "markdown",
   "id": "a31e24ad",
   "metadata": {},
   "source": [
    "## 18. Calculate the average Age and JobSatisfaction for each BusinessTravel type."
   ]
  },
  {
   "cell_type": "code",
   "execution_count": 79,
   "id": "531cca7c",
   "metadata": {},
   "outputs": [
    {
     "name": "stdout",
     "output_type": "stream",
     "text": [
      "No results found.\n"
     ]
    }
   ],
   "source": [
    "# Define the query\n",
    "query = \"\"\n",
    "# Call the function with the query\n",
    "execute_query(query)"
   ]
  },
  {
   "cell_type": "markdown",
   "id": "1ee8262e",
   "metadata": {},
   "source": [
    "## 19. Retrieve the most common EducationField among employees."
   ]
  },
  {
   "cell_type": "code",
   "execution_count": 41,
   "id": "ec30853b",
   "metadata": {},
   "outputs": [
    {
     "data": {
      "text/html": [
       "<div>\n",
       "<style scoped>\n",
       "    .dataframe tbody tr th:only-of-type {\n",
       "        vertical-align: middle;\n",
       "    }\n",
       "\n",
       "    .dataframe tbody tr th {\n",
       "        vertical-align: top;\n",
       "    }\n",
       "\n",
       "    .dataframe thead th {\n",
       "        text-align: right;\n",
       "    }\n",
       "</style>\n",
       "<table border=\"1\" class=\"dataframe\">\n",
       "  <thead>\n",
       "    <tr style=\"text-align: right;\">\n",
       "      <th></th>\n",
       "      <th>EducationField</th>\n",
       "      <th>Frequency</th>\n",
       "    </tr>\n",
       "  </thead>\n",
       "  <tbody>\n",
       "    <tr>\n",
       "      <th>0</th>\n",
       "      <td>Life Sciences</td>\n",
       "      <td>1818</td>\n",
       "    </tr>\n",
       "  </tbody>\n",
       "</table>\n",
       "</div>"
      ],
      "text/plain": [
       "  EducationField  Frequency\n",
       "0  Life Sciences       1818"
      ]
     },
     "metadata": {},
     "output_type": "display_data"
    }
   ],
   "source": [
    "# Define the query\n",
    "query = \"SELECT EducationField, COUNT(*) AS Frequency FROM hr_table GROUP BY EducationField ORDER BY COUNT(*) DESC LIMIT 1;\"\n",
    "# Call the function with the query\n",
    "execute_query(query)"
   ]
  },
  {
   "cell_type": "markdown",
   "id": "d8dc1627",
   "metadata": {},
   "source": [
    "## 20. List the employees who have worked for the company the longest but haven't had a promotion."
   ]
  },
  {
   "cell_type": "code",
   "execution_count": 42,
   "id": "c126e1d1",
   "metadata": {},
   "outputs": [
    {
     "data": {
      "text/html": [
       "<div>\n",
       "<style scoped>\n",
       "    .dataframe tbody tr th:only-of-type {\n",
       "        vertical-align: middle;\n",
       "    }\n",
       "\n",
       "    .dataframe tbody tr th {\n",
       "        vertical-align: top;\n",
       "    }\n",
       "\n",
       "    .dataframe thead th {\n",
       "        text-align: right;\n",
       "    }\n",
       "</style>\n",
       "<table border=\"1\" class=\"dataframe\">\n",
       "  <thead>\n",
       "    <tr style=\"text-align: right;\">\n",
       "      <th></th>\n",
       "      <th>EmployeeID</th>\n",
       "      <th>EmpName</th>\n",
       "      <th>YearsAtCompany</th>\n",
       "      <th>YearsSinceLastPromotion</th>\n",
       "    </tr>\n",
       "  </thead>\n",
       "  <tbody>\n",
       "    <tr>\n",
       "      <th>0</th>\n",
       "      <td>48</td>\n",
       "      <td>MERCEDES GERMAN</td>\n",
       "      <td>9</td>\n",
       "      <td>0</td>\n",
       "    </tr>\n",
       "    <tr>\n",
       "      <th>1</th>\n",
       "      <td>73</td>\n",
       "      <td>RUBY MARTIN</td>\n",
       "      <td>9</td>\n",
       "      <td>0</td>\n",
       "    </tr>\n",
       "    <tr>\n",
       "      <th>2</th>\n",
       "      <td>273</td>\n",
       "      <td>ELAINE COLEMAN</td>\n",
       "      <td>9</td>\n",
       "      <td>0</td>\n",
       "    </tr>\n",
       "    <tr>\n",
       "      <th>3</th>\n",
       "      <td>336</td>\n",
       "      <td>JULIE VAN NOSTERN</td>\n",
       "      <td>9</td>\n",
       "      <td>0</td>\n",
       "    </tr>\n",
       "    <tr>\n",
       "      <th>4</th>\n",
       "      <td>353</td>\n",
       "      <td>CURTIS LUM</td>\n",
       "      <td>9</td>\n",
       "      <td>0</td>\n",
       "    </tr>\n",
       "    <tr>\n",
       "      <th>...</th>\n",
       "      <td>...</td>\n",
       "      <td>...</td>\n",
       "      <td>...</td>\n",
       "      <td>...</td>\n",
       "    </tr>\n",
       "    <tr>\n",
       "      <th>61</th>\n",
       "      <td>4151</td>\n",
       "      <td>RUTH WANG</td>\n",
       "      <td>9</td>\n",
       "      <td>0</td>\n",
       "    </tr>\n",
       "    <tr>\n",
       "      <th>62</th>\n",
       "      <td>4164</td>\n",
       "      <td>FRANCISCO HO</td>\n",
       "      <td>9</td>\n",
       "      <td>0</td>\n",
       "    </tr>\n",
       "    <tr>\n",
       "      <th>63</th>\n",
       "      <td>4201</td>\n",
       "      <td>SHARON HITE</td>\n",
       "      <td>9</td>\n",
       "      <td>0</td>\n",
       "    </tr>\n",
       "    <tr>\n",
       "      <th>64</th>\n",
       "      <td>4264</td>\n",
       "      <td>JUNG PARK</td>\n",
       "      <td>9</td>\n",
       "      <td>0</td>\n",
       "    </tr>\n",
       "    <tr>\n",
       "      <th>65</th>\n",
       "      <td>4286</td>\n",
       "      <td>JASON MAXWELL</td>\n",
       "      <td>9</td>\n",
       "      <td>0</td>\n",
       "    </tr>\n",
       "  </tbody>\n",
       "</table>\n",
       "<p>66 rows × 4 columns</p>\n",
       "</div>"
      ],
      "text/plain": [
       "   EmployeeID            EmpName YearsAtCompany YearsSinceLastPromotion\n",
       "0          48    MERCEDES GERMAN              9                       0\n",
       "1          73        RUBY MARTIN              9                       0\n",
       "2         273     ELAINE COLEMAN              9                       0\n",
       "3         336  JULIE VAN NOSTERN              9                       0\n",
       "4         353         CURTIS LUM              9                       0\n",
       "..        ...                ...            ...                     ...\n",
       "61       4151          RUTH WANG              9                       0\n",
       "62       4164       FRANCISCO HO              9                       0\n",
       "63       4201        SHARON HITE              9                       0\n",
       "64       4264          JUNG PARK              9                       0\n",
       "65       4286      JASON MAXWELL              9                       0\n",
       "\n",
       "[66 rows x 4 columns]"
      ]
     },
     "metadata": {},
     "output_type": "display_data"
    }
   ],
   "source": [
    "# Define the query\n",
    "query = \"SELECT EmployeeID, EmpName, YearsAtCompany, YearsSinceLastPromotion FROM hr_table WHERE YearsAtCompany = (SELECT MAX(YearsAtCompany) FROM hr_table) AND YearsSinceLastPromotion = 0;\"\n",
    "# Call the function with the query\n",
    "execute_query(query)"
   ]
  },
  {
   "cell_type": "markdown",
   "id": "e6acf75d",
   "metadata": {},
   "source": [
    "<p style=\"background-color:#F1C40F;color:black;font-size:22px;text-align:center;border-radius:10px 10px;font-weight:bold;border:2px solid #F1C40F;\">Thank you😄!!!!!!</p>"
   ]
  }
 ],
 "metadata": {
  "kernelspec": {
   "display_name": "Python 3 (ipykernel)",
   "language": "python",
   "name": "python3"
  },
  "language_info": {
   "codemirror_mode": {
    "name": "ipython",
    "version": 3
   },
   "file_extension": ".py",
   "mimetype": "text/x-python",
   "name": "python",
   "nbconvert_exporter": "python",
   "pygments_lexer": "ipython3",
   "version": "3.9.16"
  }
 },
 "nbformat": 4,
 "nbformat_minor": 5
}
